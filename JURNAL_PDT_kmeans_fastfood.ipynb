{
  "cells": [
    {
      "cell_type": "markdown",
      "metadata": {
        "id": "view-in-github",
        "colab_type": "text"
      },
      "source": [
        "<a href=\"https://colab.research.google.com/github/deyaaa13/DataMining/blob/main/JURNAL_PDT_kmeans_fastfood.ipynb\" target=\"_parent\"><img src=\"https://colab.research.google.com/assets/colab-badge.svg\" alt=\"Open In Colab\"/></a>"
      ]
    },
    {
      "cell_type": "markdown",
      "source": [
        "### Import Library"
      ],
      "metadata": {
        "id": "01yqRucEjk84"
      },
      "id": "01yqRucEjk84"
    },
    {
      "cell_type": "code",
      "execution_count": null,
      "id": "2db3cc78",
      "metadata": {
        "execution": {
          "iopub.execute_input": "2023-05-14T11:39:54.124278Z",
          "iopub.status.busy": "2023-05-14T11:39:54.123833Z",
          "iopub.status.idle": "2023-05-14T11:39:54.144554Z",
          "shell.execute_reply": "2023-05-14T11:39:54.143330Z"
        },
        "papermill": {
          "duration": 0.03857,
          "end_time": "2023-05-14T11:39:54.147485",
          "exception": false,
          "start_time": "2023-05-14T11:39:54.108915",
          "status": "completed"
        },
        "tags": [],
        "id": "2db3cc78"
      },
      "outputs": [],
      "source": [
        "import numpy as np\n",
        "import pandas as pd"
      ]
    },
    {
      "cell_type": "markdown",
      "id": "1dee2aae",
      "metadata": {
        "papermill": {
          "duration": 0.013158,
          "end_time": "2023-05-14T11:39:54.202619",
          "exception": false,
          "start_time": "2023-05-14T11:39:54.189461",
          "status": "completed"
        },
        "tags": [],
        "id": "1dee2aae"
      },
      "source": [
        "### Preprocessing dasar"
      ]
    },
    {
      "cell_type": "code",
      "execution_count": null,
      "id": "715c7a0f",
      "metadata": {
        "execution": {
          "iopub.execute_input": "2023-05-14T11:39:54.231716Z",
          "iopub.status.busy": "2023-05-14T11:39:54.231022Z",
          "iopub.status.idle": "2023-05-14T11:39:54.287237Z",
          "shell.execute_reply": "2023-05-14T11:39:54.285821Z"
        },
        "papermill": {
          "duration": 0.07399,
          "end_time": "2023-05-14T11:39:54.290053",
          "exception": false,
          "start_time": "2023-05-14T11:39:54.216063",
          "status": "completed"
        },
        "tags": [],
        "colab": {
          "base_uri": "https://localhost:8080/",
          "height": 364
        },
        "id": "715c7a0f",
        "outputId": "5acdcf78-be01-4d6d-e346-05fa8f27e7df"
      },
      "outputs": [
        {
          "output_type": "execute_result",
          "data": {
            "text/plain": [
              "  restaurant                              item  calories  cal_fat  total_fat  \\\n",
              "0  Mcdonalds  Artisan Grilled Chicken Sandwich       380       60          7   \n",
              "1  Mcdonalds    Single Bacon Smokehouse Burger       840      410         45   \n",
              "2  Mcdonalds    Double Bacon Smokehouse Burger      1130      600         67   \n",
              "\n",
              "   sat_fat  trans_fat  cholesterol  sodium  total_carb  fiber  sugar  protein  \\\n",
              "0      2.0        0.0           95    1110          44    3.0     11     37.0   \n",
              "1     17.0        1.5          130    1580          62    2.0     18     46.0   \n",
              "2     27.0        3.0          220    1920          63    3.0     18     70.0   \n",
              "\n",
              "   vit_a  vit_c  calcium  salad  \n",
              "0    4.0   20.0     20.0  Other  \n",
              "1    6.0   20.0     20.0  Other  \n",
              "2   10.0   20.0     50.0  Other  "
            ],
            "text/html": [
              "\n",
              "  <div id=\"df-6970ad8f-c9b3-4ed0-9baa-5c69b0d577a1\">\n",
              "    <div class=\"colab-df-container\">\n",
              "      <div>\n",
              "<style scoped>\n",
              "    .dataframe tbody tr th:only-of-type {\n",
              "        vertical-align: middle;\n",
              "    }\n",
              "\n",
              "    .dataframe tbody tr th {\n",
              "        vertical-align: top;\n",
              "    }\n",
              "\n",
              "    .dataframe thead th {\n",
              "        text-align: right;\n",
              "    }\n",
              "</style>\n",
              "<table border=\"1\" class=\"dataframe\">\n",
              "  <thead>\n",
              "    <tr style=\"text-align: right;\">\n",
              "      <th></th>\n",
              "      <th>restaurant</th>\n",
              "      <th>item</th>\n",
              "      <th>calories</th>\n",
              "      <th>cal_fat</th>\n",
              "      <th>total_fat</th>\n",
              "      <th>sat_fat</th>\n",
              "      <th>trans_fat</th>\n",
              "      <th>cholesterol</th>\n",
              "      <th>sodium</th>\n",
              "      <th>total_carb</th>\n",
              "      <th>fiber</th>\n",
              "      <th>sugar</th>\n",
              "      <th>protein</th>\n",
              "      <th>vit_a</th>\n",
              "      <th>vit_c</th>\n",
              "      <th>calcium</th>\n",
              "      <th>salad</th>\n",
              "    </tr>\n",
              "  </thead>\n",
              "  <tbody>\n",
              "    <tr>\n",
              "      <th>0</th>\n",
              "      <td>Mcdonalds</td>\n",
              "      <td>Artisan Grilled Chicken Sandwich</td>\n",
              "      <td>380</td>\n",
              "      <td>60</td>\n",
              "      <td>7</td>\n",
              "      <td>2.0</td>\n",
              "      <td>0.0</td>\n",
              "      <td>95</td>\n",
              "      <td>1110</td>\n",
              "      <td>44</td>\n",
              "      <td>3.0</td>\n",
              "      <td>11</td>\n",
              "      <td>37.0</td>\n",
              "      <td>4.0</td>\n",
              "      <td>20.0</td>\n",
              "      <td>20.0</td>\n",
              "      <td>Other</td>\n",
              "    </tr>\n",
              "    <tr>\n",
              "      <th>1</th>\n",
              "      <td>Mcdonalds</td>\n",
              "      <td>Single Bacon Smokehouse Burger</td>\n",
              "      <td>840</td>\n",
              "      <td>410</td>\n",
              "      <td>45</td>\n",
              "      <td>17.0</td>\n",
              "      <td>1.5</td>\n",
              "      <td>130</td>\n",
              "      <td>1580</td>\n",
              "      <td>62</td>\n",
              "      <td>2.0</td>\n",
              "      <td>18</td>\n",
              "      <td>46.0</td>\n",
              "      <td>6.0</td>\n",
              "      <td>20.0</td>\n",
              "      <td>20.0</td>\n",
              "      <td>Other</td>\n",
              "    </tr>\n",
              "    <tr>\n",
              "      <th>2</th>\n",
              "      <td>Mcdonalds</td>\n",
              "      <td>Double Bacon Smokehouse Burger</td>\n",
              "      <td>1130</td>\n",
              "      <td>600</td>\n",
              "      <td>67</td>\n",
              "      <td>27.0</td>\n",
              "      <td>3.0</td>\n",
              "      <td>220</td>\n",
              "      <td>1920</td>\n",
              "      <td>63</td>\n",
              "      <td>3.0</td>\n",
              "      <td>18</td>\n",
              "      <td>70.0</td>\n",
              "      <td>10.0</td>\n",
              "      <td>20.0</td>\n",
              "      <td>50.0</td>\n",
              "      <td>Other</td>\n",
              "    </tr>\n",
              "  </tbody>\n",
              "</table>\n",
              "</div>\n",
              "      <button class=\"colab-df-convert\" onclick=\"convertToInteractive('df-6970ad8f-c9b3-4ed0-9baa-5c69b0d577a1')\"\n",
              "              title=\"Convert this dataframe to an interactive table.\"\n",
              "              style=\"display:none;\">\n",
              "        \n",
              "  <svg xmlns=\"http://www.w3.org/2000/svg\" height=\"24px\"viewBox=\"0 0 24 24\"\n",
              "       width=\"24px\">\n",
              "    <path d=\"M0 0h24v24H0V0z\" fill=\"none\"/>\n",
              "    <path d=\"M18.56 5.44l.94 2.06.94-2.06 2.06-.94-2.06-.94-.94-2.06-.94 2.06-2.06.94zm-11 1L8.5 8.5l.94-2.06 2.06-.94-2.06-.94L8.5 2.5l-.94 2.06-2.06.94zm10 10l.94 2.06.94-2.06 2.06-.94-2.06-.94-.94-2.06-.94 2.06-2.06.94z\"/><path d=\"M17.41 7.96l-1.37-1.37c-.4-.4-.92-.59-1.43-.59-.52 0-1.04.2-1.43.59L10.3 9.45l-7.72 7.72c-.78.78-.78 2.05 0 2.83L4 21.41c.39.39.9.59 1.41.59.51 0 1.02-.2 1.41-.59l7.78-7.78 2.81-2.81c.8-.78.8-2.07 0-2.86zM5.41 20L4 18.59l7.72-7.72 1.47 1.35L5.41 20z\"/>\n",
              "  </svg>\n",
              "      </button>\n",
              "      \n",
              "  <style>\n",
              "    .colab-df-container {\n",
              "      display:flex;\n",
              "      flex-wrap:wrap;\n",
              "      gap: 12px;\n",
              "    }\n",
              "\n",
              "    .colab-df-convert {\n",
              "      background-color: #E8F0FE;\n",
              "      border: none;\n",
              "      border-radius: 50%;\n",
              "      cursor: pointer;\n",
              "      display: none;\n",
              "      fill: #1967D2;\n",
              "      height: 32px;\n",
              "      padding: 0 0 0 0;\n",
              "      width: 32px;\n",
              "    }\n",
              "\n",
              "    .colab-df-convert:hover {\n",
              "      background-color: #E2EBFA;\n",
              "      box-shadow: 0px 1px 2px rgba(60, 64, 67, 0.3), 0px 1px 3px 1px rgba(60, 64, 67, 0.15);\n",
              "      fill: #174EA6;\n",
              "    }\n",
              "\n",
              "    [theme=dark] .colab-df-convert {\n",
              "      background-color: #3B4455;\n",
              "      fill: #D2E3FC;\n",
              "    }\n",
              "\n",
              "    [theme=dark] .colab-df-convert:hover {\n",
              "      background-color: #434B5C;\n",
              "      box-shadow: 0px 1px 3px 1px rgba(0, 0, 0, 0.15);\n",
              "      filter: drop-shadow(0px 1px 2px rgba(0, 0, 0, 0.3));\n",
              "      fill: #FFFFFF;\n",
              "    }\n",
              "  </style>\n",
              "\n",
              "      <script>\n",
              "        const buttonEl =\n",
              "          document.querySelector('#df-6970ad8f-c9b3-4ed0-9baa-5c69b0d577a1 button.colab-df-convert');\n",
              "        buttonEl.style.display =\n",
              "          google.colab.kernel.accessAllowed ? 'block' : 'none';\n",
              "\n",
              "        async function convertToInteractive(key) {\n",
              "          const element = document.querySelector('#df-6970ad8f-c9b3-4ed0-9baa-5c69b0d577a1');\n",
              "          const dataTable =\n",
              "            await google.colab.kernel.invokeFunction('convertToInteractive',\n",
              "                                                     [key], {});\n",
              "          if (!dataTable) return;\n",
              "\n",
              "          const docLinkHtml = 'Like what you see? Visit the ' +\n",
              "            '<a target=\"_blank\" href=https://colab.research.google.com/notebooks/data_table.ipynb>data table notebook</a>'\n",
              "            + ' to learn more about interactive tables.';\n",
              "          element.innerHTML = '';\n",
              "          dataTable['output_type'] = 'display_data';\n",
              "          await google.colab.output.renderOutput(dataTable, element);\n",
              "          const docLink = document.createElement('div');\n",
              "          docLink.innerHTML = docLinkHtml;\n",
              "          element.appendChild(docLink);\n",
              "        }\n",
              "      </script>\n",
              "    </div>\n",
              "  </div>\n",
              "  "
            ]
          },
          "metadata": {},
          "execution_count": 46
        }
      ],
      "source": [
        "pd.set_option(\"display.max_column\",None)\n",
        "df = pd.read_csv(\"fastfood.csv\")\n",
        "df.head(3)"
      ]
    },
    {
      "cell_type": "code",
      "execution_count": null,
      "id": "b2f462c2",
      "metadata": {
        "execution": {
          "iopub.execute_input": "2023-05-14T11:39:54.320424Z",
          "iopub.status.busy": "2023-05-14T11:39:54.319964Z",
          "iopub.status.idle": "2023-05-14T11:39:54.327012Z",
          "shell.execute_reply": "2023-05-14T11:39:54.325756Z"
        },
        "papermill": {
          "duration": 0.025032,
          "end_time": "2023-05-14T11:39:54.329459",
          "exception": false,
          "start_time": "2023-05-14T11:39:54.304427",
          "status": "completed"
        },
        "tags": [],
        "colab": {
          "base_uri": "https://localhost:8080/"
        },
        "id": "b2f462c2",
        "outputId": "80e3c5e6-098c-43c7-d9a8-4ac2b951294f"
      },
      "outputs": [
        {
          "output_type": "execute_result",
          "data": {
            "text/plain": [
              "(515, 17)"
            ]
          },
          "metadata": {},
          "execution_count": 47
        }
      ],
      "source": [
        "df.shape"
      ]
    },
    {
      "cell_type": "code",
      "execution_count": null,
      "id": "0bac1600",
      "metadata": {
        "execution": {
          "iopub.execute_input": "2023-05-14T11:39:54.360429Z",
          "iopub.status.busy": "2023-05-14T11:39:54.360013Z",
          "iopub.status.idle": "2023-05-14T11:39:54.389440Z",
          "shell.execute_reply": "2023-05-14T11:39:54.387346Z"
        },
        "papermill": {
          "duration": 0.048496,
          "end_time": "2023-05-14T11:39:54.392096",
          "exception": false,
          "start_time": "2023-05-14T11:39:54.343600",
          "status": "completed"
        },
        "tags": [],
        "colab": {
          "base_uri": "https://localhost:8080/"
        },
        "id": "0bac1600",
        "outputId": "35552323-0544-4f4e-905a-ca839c777b7d"
      },
      "outputs": [
        {
          "output_type": "stream",
          "name": "stdout",
          "text": [
            "<class 'pandas.core.frame.DataFrame'>\n",
            "RangeIndex: 515 entries, 0 to 514\n",
            "Data columns (total 17 columns):\n",
            " #   Column       Non-Null Count  Dtype  \n",
            "---  ------       --------------  -----  \n",
            " 0   restaurant   515 non-null    object \n",
            " 1   item         515 non-null    object \n",
            " 2   calories     515 non-null    int64  \n",
            " 3   cal_fat      515 non-null    int64  \n",
            " 4   total_fat    515 non-null    int64  \n",
            " 5   sat_fat      515 non-null    float64\n",
            " 6   trans_fat    515 non-null    float64\n",
            " 7   cholesterol  515 non-null    int64  \n",
            " 8   sodium       515 non-null    int64  \n",
            " 9   total_carb   515 non-null    int64  \n",
            " 10  fiber        503 non-null    float64\n",
            " 11  sugar        515 non-null    int64  \n",
            " 12  protein      514 non-null    float64\n",
            " 13  vit_a        301 non-null    float64\n",
            " 14  vit_c        305 non-null    float64\n",
            " 15  calcium      305 non-null    float64\n",
            " 16  salad        515 non-null    object \n",
            "dtypes: float64(7), int64(7), object(3)\n",
            "memory usage: 68.5+ KB\n"
          ]
        }
      ],
      "source": [
        "df.info()"
      ]
    },
    {
      "cell_type": "code",
      "execution_count": null,
      "id": "5d5ebc5c",
      "metadata": {
        "execution": {
          "iopub.execute_input": "2023-05-14T11:39:54.422722Z",
          "iopub.status.busy": "2023-05-14T11:39:54.422258Z",
          "iopub.status.idle": "2023-05-14T11:39:54.432998Z",
          "shell.execute_reply": "2023-05-14T11:39:54.431626Z"
        },
        "papermill": {
          "duration": 0.028841,
          "end_time": "2023-05-14T11:39:54.435461",
          "exception": false,
          "start_time": "2023-05-14T11:39:54.406620",
          "status": "completed"
        },
        "tags": [],
        "colab": {
          "base_uri": "https://localhost:8080/"
        },
        "id": "5d5ebc5c",
        "outputId": "8d71eec0-de26-4535-fceb-f3be07b4c175"
      },
      "outputs": [
        {
          "output_type": "execute_result",
          "data": {
            "text/plain": [
              "{'restaurant': 0,\n",
              " 'item': 0,\n",
              " 'calories': 0,\n",
              " 'cal_fat': 0,\n",
              " 'total_fat': 0,\n",
              " 'sat_fat': 0,\n",
              " 'trans_fat': 0,\n",
              " 'cholesterol': 0,\n",
              " 'sodium': 0,\n",
              " 'total_carb': 0,\n",
              " 'fiber': 12,\n",
              " 'sugar': 0,\n",
              " 'protein': 1,\n",
              " 'vit_a': 214,\n",
              " 'vit_c': 210,\n",
              " 'calcium': 210,\n",
              " 'salad': 0}"
            ]
          },
          "metadata": {},
          "execution_count": 49
        }
      ],
      "source": [
        "null_vals = dict(df.isnull().sum())\n",
        "null_vals"
      ]
    },
    {
      "cell_type": "code",
      "execution_count": null,
      "id": "9fad963a",
      "metadata": {
        "execution": {
          "iopub.execute_input": "2023-05-14T11:39:54.466695Z",
          "iopub.status.busy": "2023-05-14T11:39:54.465909Z",
          "iopub.status.idle": "2023-05-14T11:39:54.472626Z",
          "shell.execute_reply": "2023-05-14T11:39:54.471225Z"
        },
        "papermill": {
          "duration": 0.025249,
          "end_time": "2023-05-14T11:39:54.475323",
          "exception": false,
          "start_time": "2023-05-14T11:39:54.450074",
          "status": "completed"
        },
        "tags": [],
        "colab": {
          "base_uri": "https://localhost:8080/"
        },
        "id": "9fad963a",
        "outputId": "e5cd35f5-e4cd-4b73-b82d-064cd16a325f"
      },
      "outputs": [
        {
          "output_type": "stream",
          "name": "stdout",
          "text": [
            "null values for restaurant =======> 0.0\n",
            "null values for item =======> 0.0\n",
            "null values for calories =======> 0.0\n",
            "null values for cal_fat =======> 0.0\n",
            "null values for total_fat =======> 0.0\n",
            "null values for sat_fat =======> 0.0\n",
            "null values for trans_fat =======> 0.0\n",
            "null values for cholesterol =======> 0.0\n",
            "null values for sodium =======> 0.0\n",
            "null values for total_carb =======> 0.0\n",
            "null values for fiber =======> 2.3300970873786406\n",
            "null values for sugar =======> 0.0\n",
            "null values for protein =======> 0.1941747572815534\n",
            "null values for vit_a =======> 41.55339805825243\n",
            "null values for vit_c =======> 40.77669902912621\n",
            "null values for calcium =======> 40.77669902912621\n",
            "null values for salad =======> 0.0\n"
          ]
        }
      ],
      "source": [
        "for key,val in null_vals.items():\n",
        "    print(f\"null values for {key} =======> {(int(val)/df.shape[0])*100}\")"
      ]
    },
    {
      "cell_type": "code",
      "execution_count": null,
      "id": "1234d17a",
      "metadata": {
        "execution": {
          "iopub.execute_input": "2023-05-14T11:39:54.506455Z",
          "iopub.status.busy": "2023-05-14T11:39:54.505196Z",
          "iopub.status.idle": "2023-05-14T11:39:54.525716Z",
          "shell.execute_reply": "2023-05-14T11:39:54.524721Z"
        },
        "papermill": {
          "duration": 0.03843,
          "end_time": "2023-05-14T11:39:54.528068",
          "exception": false,
          "start_time": "2023-05-14T11:39:54.489638",
          "status": "completed"
        },
        "tags": [],
        "colab": {
          "base_uri": "https://localhost:8080/"
        },
        "id": "1234d17a",
        "outputId": "7638e73e-1caa-4410-a291-397a4b3a58f7"
      },
      "outputs": [
        {
          "output_type": "execute_result",
          "data": {
            "text/plain": [
              "{'fiber': 67.14682965168379,\n",
              " 'protein': 102.8843714070368,\n",
              " 'vit_a': 70.6551841488183,\n",
              " 'vit_c': 99.97034180718309,\n",
              " 'calcium': 87.92181644364442}"
            ]
          },
          "metadata": {},
          "execution_count": 51
        }
      ],
      "source": [
        "null_cols = ['fiber','protein','vit_a','vit_c','calcium']\n",
        "null_cols_avg = {}\n",
        "for col in null_cols:\n",
        "    null_cols_avg[col] = df[col].describe().mean()\n",
        "null_cols_avg"
      ]
    },
    {
      "cell_type": "code",
      "execution_count": null,
      "id": "d79f60c1",
      "metadata": {
        "execution": {
          "iopub.execute_input": "2023-05-14T11:39:54.559492Z",
          "iopub.status.busy": "2023-05-14T11:39:54.559046Z",
          "iopub.status.idle": "2023-05-14T11:39:54.571210Z",
          "shell.execute_reply": "2023-05-14T11:39:54.570035Z"
        },
        "papermill": {
          "duration": 0.030835,
          "end_time": "2023-05-14T11:39:54.573868",
          "exception": false,
          "start_time": "2023-05-14T11:39:54.543033",
          "status": "completed"
        },
        "tags": [],
        "colab": {
          "base_uri": "https://localhost:8080/"
        },
        "id": "d79f60c1",
        "outputId": "2a1d3ade-731c-45aa-f528-07c6207b1fb1"
      },
      "outputs": [
        {
          "output_type": "execute_result",
          "data": {
            "text/plain": [
              "restaurant     0\n",
              "item           0\n",
              "calories       0\n",
              "cal_fat        0\n",
              "total_fat      0\n",
              "sat_fat        0\n",
              "trans_fat      0\n",
              "cholesterol    0\n",
              "sodium         0\n",
              "total_carb     0\n",
              "fiber          0\n",
              "sugar          0\n",
              "protein        0\n",
              "vit_a          0\n",
              "vit_c          0\n",
              "calcium        0\n",
              "salad          0\n",
              "dtype: int64"
            ]
          },
          "metadata": {},
          "execution_count": 52
        }
      ],
      "source": [
        "df.fillna(value=null_cols_avg,inplace=True)\n",
        "df.isnull().sum()"
      ]
    },
    {
      "cell_type": "code",
      "execution_count": null,
      "id": "16b27381",
      "metadata": {
        "execution": {
          "iopub.execute_input": "2023-05-14T11:39:54.605834Z",
          "iopub.status.busy": "2023-05-14T11:39:54.605393Z",
          "iopub.status.idle": "2023-05-14T11:39:54.612501Z",
          "shell.execute_reply": "2023-05-14T11:39:54.611243Z"
        },
        "papermill": {
          "duration": 0.026321,
          "end_time": "2023-05-14T11:39:54.615181",
          "exception": false,
          "start_time": "2023-05-14T11:39:54.588860",
          "status": "completed"
        },
        "tags": [],
        "id": "16b27381"
      },
      "outputs": [],
      "source": [
        "df.drop(['salad','cal_fat','sat_fat','trans_fat'],axis=1,inplace=True)"
      ]
    },
    {
      "cell_type": "markdown",
      "id": "9eea349b",
      "metadata": {
        "papermill": {
          "duration": 0.014503,
          "end_time": "2023-05-14T11:39:54.644234",
          "exception": false,
          "start_time": "2023-05-14T11:39:54.629731",
          "status": "completed"
        },
        "tags": [],
        "id": "9eea349b"
      },
      "source": [
        "## Menentukan Labels"
      ]
    },
    {
      "cell_type": "code",
      "execution_count": null,
      "id": "548379d5",
      "metadata": {
        "execution": {
          "iopub.execute_input": "2023-05-14T11:39:54.675526Z",
          "iopub.status.busy": "2023-05-14T11:39:54.675054Z",
          "iopub.status.idle": "2023-05-14T11:39:56.268669Z",
          "shell.execute_reply": "2023-05-14T11:39:56.267190Z"
        },
        "papermill": {
          "duration": 1.61241,
          "end_time": "2023-05-14T11:39:56.271440",
          "exception": false,
          "start_time": "2023-05-14T11:39:54.659030",
          "status": "completed"
        },
        "tags": [],
        "id": "548379d5"
      },
      "outputs": [],
      "source": [
        "from sklearn.cluster import KMeans\n",
        "from sklearn.model_selection import train_test_split\n",
        "import matplotlib.pyplot as plt"
      ]
    },
    {
      "cell_type": "code",
      "execution_count": null,
      "id": "e60f9859",
      "metadata": {
        "execution": {
          "iopub.execute_input": "2023-05-14T11:39:56.302896Z",
          "iopub.status.busy": "2023-05-14T11:39:56.302445Z",
          "iopub.status.idle": "2023-05-14T11:39:56.322003Z",
          "shell.execute_reply": "2023-05-14T11:39:56.320735Z"
        },
        "papermill": {
          "duration": 0.038475,
          "end_time": "2023-05-14T11:39:56.324665",
          "exception": false,
          "start_time": "2023-05-14T11:39:56.286190",
          "status": "completed"
        },
        "tags": [],
        "colab": {
          "base_uri": "https://localhost:8080/",
          "height": 143
        },
        "id": "e60f9859",
        "outputId": "82515821-952a-47d4-c405-819f9a0bc4d4"
      },
      "outputs": [
        {
          "output_type": "execute_result",
          "data": {
            "text/plain": [
              "     calories  total_fat  cholesterol  sodium  total_carb  fiber  sugar  \\\n",
              "70        490         19           80    1130          55    5.0     12   \n",
              "164       680         31           80    2420          62    4.0      5   \n",
              "175      1030         51          155    2940          83    5.0     19   \n",
              "\n",
              "     protein      vit_a      vit_c    calcium  \n",
              "70      28.0  35.000000   8.000000  15.000000  \n",
              "164     37.0   6.000000  20.000000  35.000000  \n",
              "175     62.0  70.655184  99.970342  87.921816  "
            ],
            "text/html": [
              "\n",
              "  <div id=\"df-460b82f0-f94e-461f-aa2b-79db066ae433\">\n",
              "    <div class=\"colab-df-container\">\n",
              "      <div>\n",
              "<style scoped>\n",
              "    .dataframe tbody tr th:only-of-type {\n",
              "        vertical-align: middle;\n",
              "    }\n",
              "\n",
              "    .dataframe tbody tr th {\n",
              "        vertical-align: top;\n",
              "    }\n",
              "\n",
              "    .dataframe thead th {\n",
              "        text-align: right;\n",
              "    }\n",
              "</style>\n",
              "<table border=\"1\" class=\"dataframe\">\n",
              "  <thead>\n",
              "    <tr style=\"text-align: right;\">\n",
              "      <th></th>\n",
              "      <th>calories</th>\n",
              "      <th>total_fat</th>\n",
              "      <th>cholesterol</th>\n",
              "      <th>sodium</th>\n",
              "      <th>total_carb</th>\n",
              "      <th>fiber</th>\n",
              "      <th>sugar</th>\n",
              "      <th>protein</th>\n",
              "      <th>vit_a</th>\n",
              "      <th>vit_c</th>\n",
              "      <th>calcium</th>\n",
              "    </tr>\n",
              "  </thead>\n",
              "  <tbody>\n",
              "    <tr>\n",
              "      <th>70</th>\n",
              "      <td>490</td>\n",
              "      <td>19</td>\n",
              "      <td>80</td>\n",
              "      <td>1130</td>\n",
              "      <td>55</td>\n",
              "      <td>5.0</td>\n",
              "      <td>12</td>\n",
              "      <td>28.0</td>\n",
              "      <td>35.000000</td>\n",
              "      <td>8.000000</td>\n",
              "      <td>15.000000</td>\n",
              "    </tr>\n",
              "    <tr>\n",
              "      <th>164</th>\n",
              "      <td>680</td>\n",
              "      <td>31</td>\n",
              "      <td>80</td>\n",
              "      <td>2420</td>\n",
              "      <td>62</td>\n",
              "      <td>4.0</td>\n",
              "      <td>5</td>\n",
              "      <td>37.0</td>\n",
              "      <td>6.000000</td>\n",
              "      <td>20.000000</td>\n",
              "      <td>35.000000</td>\n",
              "    </tr>\n",
              "    <tr>\n",
              "      <th>175</th>\n",
              "      <td>1030</td>\n",
              "      <td>51</td>\n",
              "      <td>155</td>\n",
              "      <td>2940</td>\n",
              "      <td>83</td>\n",
              "      <td>5.0</td>\n",
              "      <td>19</td>\n",
              "      <td>62.0</td>\n",
              "      <td>70.655184</td>\n",
              "      <td>99.970342</td>\n",
              "      <td>87.921816</td>\n",
              "    </tr>\n",
              "  </tbody>\n",
              "</table>\n",
              "</div>\n",
              "      <button class=\"colab-df-convert\" onclick=\"convertToInteractive('df-460b82f0-f94e-461f-aa2b-79db066ae433')\"\n",
              "              title=\"Convert this dataframe to an interactive table.\"\n",
              "              style=\"display:none;\">\n",
              "        \n",
              "  <svg xmlns=\"http://www.w3.org/2000/svg\" height=\"24px\"viewBox=\"0 0 24 24\"\n",
              "       width=\"24px\">\n",
              "    <path d=\"M0 0h24v24H0V0z\" fill=\"none\"/>\n",
              "    <path d=\"M18.56 5.44l.94 2.06.94-2.06 2.06-.94-2.06-.94-.94-2.06-.94 2.06-2.06.94zm-11 1L8.5 8.5l.94-2.06 2.06-.94-2.06-.94L8.5 2.5l-.94 2.06-2.06.94zm10 10l.94 2.06.94-2.06 2.06-.94-2.06-.94-.94-2.06-.94 2.06-2.06.94z\"/><path d=\"M17.41 7.96l-1.37-1.37c-.4-.4-.92-.59-1.43-.59-.52 0-1.04.2-1.43.59L10.3 9.45l-7.72 7.72c-.78.78-.78 2.05 0 2.83L4 21.41c.39.39.9.59 1.41.59.51 0 1.02-.2 1.41-.59l7.78-7.78 2.81-2.81c.8-.78.8-2.07 0-2.86zM5.41 20L4 18.59l7.72-7.72 1.47 1.35L5.41 20z\"/>\n",
              "  </svg>\n",
              "      </button>\n",
              "      \n",
              "  <style>\n",
              "    .colab-df-container {\n",
              "      display:flex;\n",
              "      flex-wrap:wrap;\n",
              "      gap: 12px;\n",
              "    }\n",
              "\n",
              "    .colab-df-convert {\n",
              "      background-color: #E8F0FE;\n",
              "      border: none;\n",
              "      border-radius: 50%;\n",
              "      cursor: pointer;\n",
              "      display: none;\n",
              "      fill: #1967D2;\n",
              "      height: 32px;\n",
              "      padding: 0 0 0 0;\n",
              "      width: 32px;\n",
              "    }\n",
              "\n",
              "    .colab-df-convert:hover {\n",
              "      background-color: #E2EBFA;\n",
              "      box-shadow: 0px 1px 2px rgba(60, 64, 67, 0.3), 0px 1px 3px 1px rgba(60, 64, 67, 0.15);\n",
              "      fill: #174EA6;\n",
              "    }\n",
              "\n",
              "    [theme=dark] .colab-df-convert {\n",
              "      background-color: #3B4455;\n",
              "      fill: #D2E3FC;\n",
              "    }\n",
              "\n",
              "    [theme=dark] .colab-df-convert:hover {\n",
              "      background-color: #434B5C;\n",
              "      box-shadow: 0px 1px 3px 1px rgba(0, 0, 0, 0.15);\n",
              "      filter: drop-shadow(0px 1px 2px rgba(0, 0, 0, 0.3));\n",
              "      fill: #FFFFFF;\n",
              "    }\n",
              "  </style>\n",
              "\n",
              "      <script>\n",
              "        const buttonEl =\n",
              "          document.querySelector('#df-460b82f0-f94e-461f-aa2b-79db066ae433 button.colab-df-convert');\n",
              "        buttonEl.style.display =\n",
              "          google.colab.kernel.accessAllowed ? 'block' : 'none';\n",
              "\n",
              "        async function convertToInteractive(key) {\n",
              "          const element = document.querySelector('#df-460b82f0-f94e-461f-aa2b-79db066ae433');\n",
              "          const dataTable =\n",
              "            await google.colab.kernel.invokeFunction('convertToInteractive',\n",
              "                                                     [key], {});\n",
              "          if (!dataTable) return;\n",
              "\n",
              "          const docLinkHtml = 'Like what you see? Visit the ' +\n",
              "            '<a target=\"_blank\" href=https://colab.research.google.com/notebooks/data_table.ipynb>data table notebook</a>'\n",
              "            + ' to learn more about interactive tables.';\n",
              "          element.innerHTML = '';\n",
              "          dataTable['output_type'] = 'display_data';\n",
              "          await google.colab.output.renderOutput(dataTable, element);\n",
              "          const docLink = document.createElement('div');\n",
              "          docLink.innerHTML = docLinkHtml;\n",
              "          element.appendChild(docLink);\n",
              "        }\n",
              "      </script>\n",
              "    </div>\n",
              "  </div>\n",
              "  "
            ]
          },
          "metadata": {},
          "execution_count": 55
        }
      ],
      "source": [
        "df_seg = df.drop(['restaurant','item'],axis='columns')\n",
        "df_seg.sample(3)"
      ]
    },
    {
      "cell_type": "markdown",
      "id": "9928e50d",
      "metadata": {
        "papermill": {
          "duration": 0.014752,
          "end_time": "2023-05-14T11:39:56.354601",
          "exception": false,
          "start_time": "2023-05-14T11:39:56.339849",
          "status": "completed"
        },
        "tags": [],
        "id": "9928e50d"
      },
      "source": [
        "### ----> Mencari jumlah cluster yang paling terbaik\n",
        "### ---- > Menggunakan metode elbow dengan library yellowbrick"
      ]
    },
    {
      "cell_type": "code",
      "execution_count": null,
      "id": "8b26d7ed",
      "metadata": {
        "execution": {
          "iopub.execute_input": "2023-05-14T11:39:56.387011Z",
          "iopub.status.busy": "2023-05-14T11:39:56.386570Z",
          "iopub.status.idle": "2023-05-14T11:39:56.656411Z",
          "shell.execute_reply": "2023-05-14T11:39:56.654747Z"
        },
        "papermill": {
          "duration": 0.289701,
          "end_time": "2023-05-14T11:39:56.659342",
          "exception": false,
          "start_time": "2023-05-14T11:39:56.369641",
          "status": "completed"
        },
        "tags": [],
        "id": "8b26d7ed"
      },
      "outputs": [],
      "source": [
        "from yellowbrick.cluster import KElbowVisualizer"
      ]
    },
    {
      "cell_type": "code",
      "execution_count": null,
      "id": "c15280c9",
      "metadata": {
        "execution": {
          "iopub.execute_input": "2023-05-14T11:39:56.691125Z",
          "iopub.status.busy": "2023-05-14T11:39:56.690687Z",
          "iopub.status.idle": "2023-05-14T11:39:58.890377Z",
          "shell.execute_reply": "2023-05-14T11:39:58.889130Z"
        },
        "papermill": {
          "duration": 2.218939,
          "end_time": "2023-05-14T11:39:58.893244",
          "exception": false,
          "start_time": "2023-05-14T11:39:56.674305",
          "status": "completed"
        },
        "tags": [],
        "colab": {
          "base_uri": "https://localhost:8080/",
          "height": 874
        },
        "id": "c15280c9",
        "outputId": "d6f9cb59-5338-4ae3-c371-b5691363a4d0"
      },
      "outputs": [
        {
          "output_type": "stream",
          "name": "stderr",
          "text": [
            "/usr/local/lib/python3.10/dist-packages/sklearn/cluster/_kmeans.py:870: FutureWarning: The default value of `n_init` will change from 10 to 'auto' in 1.4. Set the value of `n_init` explicitly to suppress the warning\n",
            "  warnings.warn(\n",
            "/usr/local/lib/python3.10/dist-packages/sklearn/cluster/_kmeans.py:870: FutureWarning: The default value of `n_init` will change from 10 to 'auto' in 1.4. Set the value of `n_init` explicitly to suppress the warning\n",
            "  warnings.warn(\n",
            "/usr/local/lib/python3.10/dist-packages/sklearn/cluster/_kmeans.py:870: FutureWarning: The default value of `n_init` will change from 10 to 'auto' in 1.4. Set the value of `n_init` explicitly to suppress the warning\n",
            "  warnings.warn(\n",
            "/usr/local/lib/python3.10/dist-packages/sklearn/cluster/_kmeans.py:870: FutureWarning: The default value of `n_init` will change from 10 to 'auto' in 1.4. Set the value of `n_init` explicitly to suppress the warning\n",
            "  warnings.warn(\n",
            "/usr/local/lib/python3.10/dist-packages/sklearn/cluster/_kmeans.py:870: FutureWarning: The default value of `n_init` will change from 10 to 'auto' in 1.4. Set the value of `n_init` explicitly to suppress the warning\n",
            "  warnings.warn(\n",
            "/usr/local/lib/python3.10/dist-packages/sklearn/cluster/_kmeans.py:870: FutureWarning: The default value of `n_init` will change from 10 to 'auto' in 1.4. Set the value of `n_init` explicitly to suppress the warning\n",
            "  warnings.warn(\n",
            "/usr/local/lib/python3.10/dist-packages/sklearn/cluster/_kmeans.py:870: FutureWarning: The default value of `n_init` will change from 10 to 'auto' in 1.4. Set the value of `n_init` explicitly to suppress the warning\n",
            "  warnings.warn(\n",
            "/usr/local/lib/python3.10/dist-packages/sklearn/cluster/_kmeans.py:870: FutureWarning: The default value of `n_init` will change from 10 to 'auto' in 1.4. Set the value of `n_init` explicitly to suppress the warning\n",
            "  warnings.warn(\n",
            "/usr/local/lib/python3.10/dist-packages/sklearn/cluster/_kmeans.py:870: FutureWarning: The default value of `n_init` will change from 10 to 'auto' in 1.4. Set the value of `n_init` explicitly to suppress the warning\n",
            "  warnings.warn(\n"
          ]
        },
        {
          "output_type": "display_data",
          "data": {
            "text/plain": [
              "<Figure size 800x550 with 2 Axes>"
            ],
            "image/png": "[encoded data removed]"
          },
          "metadata": {}
        },
        {
          "output_type": "execute_result",
          "data": {
            "text/plain": [
              "<Axes: title={'center': 'Distortion Score Elbow for KMeans Clustering'}, xlabel='k', ylabel='distortion score'>"
            ]
          },
          "metadata": {},
          "execution_count": 57
        }
      ],
      "source": [
        "model = KMeans()\n",
        "visualizer = KElbowVisualizer(model, K=(1,10))\n",
        "visualizer.fit(df_seg)\n",
        "visualizer.show()"
      ]
    },
    {
      "cell_type": "code",
      "execution_count": null,
      "id": "60d4fcef",
      "metadata": {
        "execution": {
          "iopub.execute_input": "2023-05-14T11:39:58.928042Z",
          "iopub.status.busy": "2023-05-14T11:39:58.927630Z",
          "iopub.status.idle": "2023-05-14T11:39:59.511812Z",
          "shell.execute_reply": "2023-05-14T11:39:59.509370Z"
        },
        "papermill": {
          "duration": 0.604713,
          "end_time": "2023-05-14T11:39:59.514425",
          "exception": false,
          "start_time": "2023-05-14T11:39:58.909712",
          "status": "completed"
        },
        "tags": [],
        "colab": {
          "base_uri": "https://localhost:8080/"
        },
        "id": "60d4fcef",
        "outputId": "67132a36-ca45-4e36-fc55-d18c238a1577"
      },
      "outputs": [
        {
          "output_type": "stream",
          "name": "stderr",
          "text": [
            "/usr/local/lib/python3.10/dist-packages/sklearn/cluster/_kmeans.py:870: FutureWarning: The default value of `n_init` will change from 10 to 'auto' in 1.4. Set the value of `n_init` explicitly to suppress the warning\n",
            "  warnings.warn(\n",
            "/usr/local/lib/python3.10/dist-packages/sklearn/cluster/_kmeans.py:870: FutureWarning: The default value of `n_init` will change from 10 to 'auto' in 1.4. Set the value of `n_init` explicitly to suppress the warning\n",
            "  warnings.warn(\n",
            "/usr/local/lib/python3.10/dist-packages/sklearn/cluster/_kmeans.py:870: FutureWarning: The default value of `n_init` will change from 10 to 'auto' in 1.4. Set the value of `n_init` explicitly to suppress the warning\n",
            "  warnings.warn(\n",
            "/usr/local/lib/python3.10/dist-packages/sklearn/cluster/_kmeans.py:870: FutureWarning: The default value of `n_init` will change from 10 to 'auto' in 1.4. Set the value of `n_init` explicitly to suppress the warning\n",
            "  warnings.warn(\n",
            "/usr/local/lib/python3.10/dist-packages/sklearn/cluster/_kmeans.py:870: FutureWarning: The default value of `n_init` will change from 10 to 'auto' in 1.4. Set the value of `n_init` explicitly to suppress the warning\n",
            "  warnings.warn(\n",
            "/usr/local/lib/python3.10/dist-packages/sklearn/cluster/_kmeans.py:870: FutureWarning: The default value of `n_init` will change from 10 to 'auto' in 1.4. Set the value of `n_init` explicitly to suppress the warning\n",
            "  warnings.warn(\n",
            "/usr/local/lib/python3.10/dist-packages/sklearn/cluster/_kmeans.py:870: FutureWarning: The default value of `n_init` will change from 10 to 'auto' in 1.4. Set the value of `n_init` explicitly to suppress the warning\n",
            "  warnings.warn(\n",
            "/usr/local/lib/python3.10/dist-packages/sklearn/cluster/_kmeans.py:870: FutureWarning: The default value of `n_init` will change from 10 to 'auto' in 1.4. Set the value of `n_init` explicitly to suppress the warning\n",
            "  warnings.warn(\n",
            "/usr/local/lib/python3.10/dist-packages/sklearn/cluster/_kmeans.py:870: FutureWarning: The default value of `n_init` will change from 10 to 'auto' in 1.4. Set the value of `n_init` explicitly to suppress the warning\n",
            "  warnings.warn(\n"
          ]
        },
        {
          "output_type": "stream",
          "name": "stdout",
          "text": [
            "[290868806.76346713, 132193797.64424579, 78198573.19120206, 53774068.03445704, 42600515.18340419, 33421568.18818365, 29336001.229746997, 26188869.210913755, 23121253.103140853]\n"
          ]
        }
      ],
      "source": [
        "inertias = []\n",
        "for i in range(1,10):\n",
        "    model = KMeans(n_clusters=i,init=\"k-means++\",random_state=42)\n",
        "    model.fit(df_seg)\n",
        "    inertias.append(model.inertia_)\n",
        "print(inertias)"
      ]
    },
    {
      "cell_type": "markdown",
      "id": "8a1c71f7",
      "metadata": {
        "papermill": {
          "duration": 0.016229,
          "end_time": "2023-05-14T11:39:59.547508",
          "exception": false,
          "start_time": "2023-05-14T11:39:59.531279",
          "status": "completed"
        },
        "tags": [],
        "id": "8a1c71f7"
      },
      "source": [
        "### ---- > Metode Elbow"
      ]
    },
    {
      "cell_type": "code",
      "execution_count": null,
      "id": "f2d59fcf",
      "metadata": {
        "execution": {
          "iopub.execute_input": "2023-05-14T11:39:59.582222Z",
          "iopub.status.busy": "2023-05-14T11:39:59.581775Z",
          "iopub.status.idle": "2023-05-14T11:39:59.826663Z",
          "shell.execute_reply": "2023-05-14T11:39:59.825455Z"
        },
        "papermill": {
          "duration": 0.26544,
          "end_time": "2023-05-14T11:39:59.829249",
          "exception": false,
          "start_time": "2023-05-14T11:39:59.563809",
          "status": "completed"
        },
        "tags": [],
        "colab": {
          "base_uri": "https://localhost:8080/",
          "height": 524
        },
        "id": "f2d59fcf",
        "outputId": "0134af3e-d47e-4909-8469-3187bfdc5c32"
      },
      "outputs": [
        {
          "output_type": "display_data",
          "data": {
            "text/plain": [
              "<Figure size 800x550 with 1 Axes>"
            ],
            "image/png": "[encoded data removed]"
          },
          "metadata": {}
        }
      ],
      "source": [
        "plt.plot(inertias)\n",
        "plt.title(\"inertia of Knn model\")\n",
        "plt.xlabel(\"number of clusters\")\n",
        "plt.ylabel(\"inertia\")\n",
        "plt.show()"
      ]
    },
    {
      "cell_type": "markdown",
      "id": "c5eeba92",
      "metadata": {
        "papermill": {
          "duration": 0.016671,
          "end_time": "2023-05-14T11:39:59.862885",
          "exception": false,
          "start_time": "2023-05-14T11:39:59.846214",
          "status": "completed"
        },
        "tags": [],
        "id": "c5eeba92"
      },
      "source": [
        ">Di tetumaknnya jumlah terbaik untuk dataset ini adalah 4 cluster"
      ]
    },
    {
      "cell_type": "markdown",
      "source": [
        "### Membuat modelling dengan 4 cluster"
      ],
      "metadata": {
        "id": "OdmeD7sq2-wT"
      },
      "id": "OdmeD7sq2-wT"
    },
    {
      "cell_type": "code",
      "execution_count": null,
      "id": "7881d4dc",
      "metadata": {
        "execution": {
          "iopub.execute_input": "2023-05-14T11:39:59.901297Z",
          "iopub.status.busy": "2023-05-14T11:39:59.900842Z",
          "iopub.status.idle": "2023-05-14T11:39:59.967060Z",
          "shell.execute_reply": "2023-05-14T11:39:59.966237Z"
        },
        "papermill": {
          "duration": 0.089682,
          "end_time": "2023-05-14T11:39:59.969645",
          "exception": false,
          "start_time": "2023-05-14T11:39:59.879963",
          "status": "completed"
        },
        "tags": [],
        "colab": {
          "base_uri": "https://localhost:8080/",
          "height": 129
        },
        "id": "7881d4dc",
        "outputId": "188dd387-09b3-4e78-801b-a2ec099a753a"
      },
      "outputs": [
        {
          "output_type": "stream",
          "name": "stderr",
          "text": [
            "/usr/local/lib/python3.10/dist-packages/sklearn/cluster/_kmeans.py:870: FutureWarning: The default value of `n_init` will change from 10 to 'auto' in 1.4. Set the value of `n_init` explicitly to suppress the warning\n",
            "  warnings.warn(\n"
          ]
        },
        {
          "output_type": "execute_result",
          "data": {
            "text/plain": [
              "KMeans(n_clusters=4, random_state=42)"
            ],
            "text/html": [
              "<style>#sk-container-id-2 {color: black;background-color: white;}#sk-container-id-2 pre{padding: 0;}#sk-container-id-2 div.sk-toggleable {background-color: white;}#sk-container-id-2 label.sk-toggleable__label {cursor: pointer;display: block;width: 100%;margin-bottom: 0;padding: 0.3em;box-sizing: border-box;text-align: center;}#sk-container-id-2 label.sk-toggleable__label-arrow:before {content: \"▸\";float: left;margin-right: 0.25em;color: #696969;}#sk-container-id-2 label.sk-toggleable__label-arrow:hover:before {color: black;}#sk-container-id-2 div.sk-estimator:hover label.sk-toggleable__label-arrow:before {color: black;}#sk-container-id-2 div.sk-toggleable__content {max-height: 0;max-width: 0;overflow: hidden;text-align: left;background-color: #f0f8ff;}#sk-container-id-2 div.sk-toggleable__content pre {margin: 0.2em;color: black;border-radius: 0.25em;background-color: #f0f8ff;}#sk-container-id-2 input.sk-toggleable__control:checked~div.sk-toggleable__content {max-height: 200px;max-width: 100%;overflow: auto;}#sk-container-id-2 input.sk-toggleable__control:checked~label.sk-toggleable__label-arrow:before {content: \"▾\";}#sk-container-id-2 div.sk-estimator input.sk-toggleable__control:checked~label.sk-toggleable__label {background-color: #d4ebff;}#sk-container-id-2 div.sk-label input.sk-toggleable__control:checked~label.sk-toggleable__label {background-color: #d4ebff;}#sk-container-id-2 input.sk-hidden--visually {border: 0;clip: rect(1px 1px 1px 1px);clip: rect(1px, 1px, 1px, 1px);height: 1px;margin: -1px;overflow: hidden;padding: 0;position: absolute;width: 1px;}#sk-container-id-2 div.sk-estimator {font-family: monospace;background-color: #f0f8ff;border: 1px dotted black;border-radius: 0.25em;box-sizing: border-box;margin-bottom: 0.5em;}#sk-container-id-2 div.sk-estimator:hover {background-color: #d4ebff;}#sk-container-id-2 div.sk-parallel-item::after {content: \"\";width: 100%;border-bottom: 1px solid gray;flex-grow: 1;}#sk-container-id-2 div.sk-label:hover label.sk-toggleable__label {background-color: #d4ebff;}#sk-container-id-2 div.sk-serial::before {content: \"\";position: absolute;border-left: 1px solid gray;box-sizing: border-box;top: 0;bottom: 0;left: 50%;z-index: 0;}#sk-container-id-2 div.sk-serial {display: flex;flex-direction: column;align-items: center;background-color: white;padding-right: 0.2em;padding-left: 0.2em;position: relative;}#sk-container-id-2 div.sk-item {position: relative;z-index: 1;}#sk-container-id-2 div.sk-parallel {display: flex;align-items: stretch;justify-content: center;background-color: white;position: relative;}#sk-container-id-2 div.sk-item::before, #sk-container-id-2 div.sk-parallel-item::before {content: \"\";position: absolute;border-left: 1px solid gray;box-sizing: border-box;top: 0;bottom: 0;left: 50%;z-index: -1;}#sk-container-id-2 div.sk-parallel-item {display: flex;flex-direction: column;z-index: 1;position: relative;background-color: white;}#sk-container-id-2 div.sk-parallel-item:first-child::after {align-self: flex-end;width: 50%;}#sk-container-id-2 div.sk-parallel-item:last-child::after {align-self: flex-start;width: 50%;}#sk-container-id-2 div.sk-parallel-item:only-child::after {width: 0;}#sk-container-id-2 div.sk-dashed-wrapped {border: 1px dashed gray;margin: 0 0.4em 0.5em 0.4em;box-sizing: border-box;padding-bottom: 0.4em;background-color: white;}#sk-container-id-2 div.sk-label label {font-family: monospace;font-weight: bold;display: inline-block;line-height: 1.2em;}#sk-container-id-2 div.sk-label-container {text-align: center;}#sk-container-id-2 div.sk-container {/* jupyter's `normalize.less` sets `[hidden] { display: none; }` but bootstrap.min.css set `[hidden] { display: none !important; }` so we also need the `!important` here to be able to override the default hidden behavior on the sphinx rendered scikit-learn.org. See: https://github.com/scikit-learn/scikit-learn/issues/21755 */display: inline-block !important;position: relative;}#sk-container-id-2 div.sk-text-repr-fallback {display: none;}</style><div id=\"sk-container-id-2\" class=\"sk-top-container\"><div class=\"sk-text-repr-fallback\"><pre>KMeans(n_clusters=4, random_state=42)</pre><b>In a Jupyter environment, please rerun this cell to show the HTML representation or trust the notebook. <br />On GitHub, the HTML representation is unable to render, please try loading this page with nbviewer.org.</b></div><div class=\"sk-container\" hidden><div class=\"sk-item\"><div class=\"sk-estimator sk-toggleable\"><input class=\"sk-toggleable__control sk-hidden--visually\" id=\"sk-estimator-id-2\" type=\"checkbox\" checked><label for=\"sk-estimator-id-2\" class=\"sk-toggleable__label sk-toggleable__label-arrow\">KMeans</label><div class=\"sk-toggleable__content\"><pre>KMeans(n_clusters=4, random_state=42)</pre></div></div></div></div></div>"
            ]
          },
          "metadata": {},
          "execution_count": 60
        }
      ],
      "source": [
        "model = KMeans(n_clusters=4,init='k-means++',random_state=42)\n",
        "model.fit(df_seg)"
      ]
    },
    {
      "cell_type": "code",
      "execution_count": null,
      "id": "c9836e6d",
      "metadata": {
        "execution": {
          "iopub.execute_input": "2023-05-14T11:40:00.006014Z",
          "iopub.status.busy": "2023-05-14T11:40:00.005580Z",
          "iopub.status.idle": "2023-05-14T11:40:00.013960Z",
          "shell.execute_reply": "2023-05-14T11:40:00.012609Z"
        },
        "papermill": {
          "duration": 0.029704,
          "end_time": "2023-05-14T11:40:00.016433",
          "exception": false,
          "start_time": "2023-05-14T11:39:59.986729",
          "status": "completed"
        },
        "tags": [],
        "colab": {
          "base_uri": "https://localhost:8080/"
        },
        "id": "c9836e6d",
        "outputId": "d47fc419-9927-406b-ea4c-20503d9d2b1d"
      },
      "outputs": [
        {
          "output_type": "execute_result",
          "data": {
            "text/plain": [
              "array([[3.03939394e+02, 1.43838384e+01, 3.88383838e+01, 6.70909091e+02,\n",
              "        2.78939394e+01, 3.36437793e+00, 4.13636364e+00, 1.61666667e+01,\n",
              "        4.29526351e+01, 5.53148018e+01, 4.78331489e+01],\n",
              "       [8.11122449e+02, 4.21530612e+01, 1.22244898e+02, 1.97316327e+03,\n",
              "        6.71734694e+01, 1.04507616e+01, 1.13877551e+01, 4.36416773e+01,\n",
              "        4.03585558e+01, 6.16391400e+01, 6.40959547e+01],\n",
              "       [5.57711443e+02, 2.78109453e+01, 7.09203980e+01, 1.25681592e+03,\n",
              "        4.89950249e+01, 5.35542532e+00, 7.73631841e+00, 2.81542289e+01,\n",
              "        3.93822311e+01, 4.68850461e+01, 4.72808406e+01],\n",
              "       [1.20277778e+03, 6.25000000e+01, 1.88333333e+02, 3.51333333e+03,\n",
              "        8.68333333e+01, 6.66666667e+00, 1.38888889e+01, 7.23333333e+01,\n",
              "        2.33678187e+01, 4.04950570e+01, 4.37647472e+01]])"
            ]
          },
          "metadata": {},
          "execution_count": 61
        }
      ],
      "source": [
        "cluster_centers = model.cluster_centers_\n",
        "cluster_centers"
      ]
    },
    {
      "cell_type": "code",
      "execution_count": null,
      "id": "cf1ee45e",
      "metadata": {
        "execution": {
          "iopub.execute_input": "2023-05-14T11:40:00.052853Z",
          "iopub.status.busy": "2023-05-14T11:40:00.052427Z",
          "iopub.status.idle": "2023-05-14T11:40:00.060176Z",
          "shell.execute_reply": "2023-05-14T11:40:00.058963Z"
        },
        "papermill": {
          "duration": 0.02899,
          "end_time": "2023-05-14T11:40:00.062768",
          "exception": false,
          "start_time": "2023-05-14T11:40:00.033778",
          "status": "completed"
        },
        "tags": [],
        "colab": {
          "base_uri": "https://localhost:8080/"
        },
        "id": "cf1ee45e",
        "outputId": "8f62dd99-fb28-4a90-bf5b-00f1a4769170"
      },
      "outputs": [
        {
          "output_type": "execute_result",
          "data": {
            "text/plain": [
              "array([2, 1, 1, 1, 1, 2, 0, 2, 2, 2], dtype=int32)"
            ]
          },
          "metadata": {},
          "execution_count": 62
        }
      ],
      "source": [
        "labels = model.labels_\n",
        "labels[:10]"
      ]
    },
    {
      "cell_type": "code",
      "execution_count": null,
      "id": "d3a496c0",
      "metadata": {
        "execution": {
          "iopub.execute_input": "2023-05-14T11:40:00.099253Z",
          "iopub.status.busy": "2023-05-14T11:40:00.098836Z",
          "iopub.status.idle": "2023-05-14T11:40:00.120241Z",
          "shell.execute_reply": "2023-05-14T11:40:00.118384Z"
        },
        "papermill": {
          "duration": 0.043138,
          "end_time": "2023-05-14T11:40:00.123277",
          "exception": false,
          "start_time": "2023-05-14T11:40:00.080139",
          "status": "completed"
        },
        "tags": [],
        "colab": {
          "base_uri": "https://localhost:8080/",
          "height": 222
        },
        "id": "d3a496c0",
        "outputId": "2049b0fe-ba6b-4627-dd95-913c4fae9cb1"
      },
      "outputs": [
        {
          "output_type": "execute_result",
          "data": {
            "text/plain": [
              "      restaurant                                    item  calories  total_fat  \\\n",
              "227  Burger King  Chicken Caesar Salad w/ Crispy Chicken       670         43   \n",
              "299  Dairy Queen     Grilled Chicken Garden Greens Salad       150          2   \n",
              "481    Taco Bell         Beefy Cheddar Crunchwrap Slider       410         19   \n",
              "\n",
              "     cholesterol  sodium  total_carb  fiber  sugar  protein      vit_a  \\\n",
              "227           80    1760          40    5.0      8     34.0  70.655184   \n",
              "299           40     730          10    3.0      6     23.0  70.655184   \n",
              "481           25     960          46    4.0      3     14.0  70.655184   \n",
              "\n",
              "         vit_c    calcium  labels  \n",
              "227  99.970342  87.921816       1  \n",
              "299  99.970342  87.921816       0  \n",
              "481  99.970342  87.921816       0  "
            ],
            "text/html": [
              "\n",
              "  <div id=\"df-657df73e-da09-48a5-8b5d-1ff0c52613c3\">\n",
              "    <div class=\"colab-df-container\">\n",
              "      <div>\n",
              "<style scoped>\n",
              "    .dataframe tbody tr th:only-of-type {\n",
              "        vertical-align: middle;\n",
              "    }\n",
              "\n",
              "    .dataframe tbody tr th {\n",
              "        vertical-align: top;\n",
              "    }\n",
              "\n",
              "    .dataframe thead th {\n",
              "        text-align: right;\n",
              "    }\n",
              "</style>\n",
              "<table border=\"1\" class=\"dataframe\">\n",
              "  <thead>\n",
              "    <tr style=\"text-align: right;\">\n",
              "      <th></th>\n",
              "      <th>restaurant</th>\n",
              "      <th>item</th>\n",
              "      <th>calories</th>\n",
              "      <th>total_fat</th>\n",
              "      <th>cholesterol</th>\n",
              "      <th>sodium</th>\n",
              "      <th>total_carb</th>\n",
              "      <th>fiber</th>\n",
              "      <th>sugar</th>\n",
              "      <th>protein</th>\n",
              "      <th>vit_a</th>\n",
              "      <th>vit_c</th>\n",
              "      <th>calcium</th>\n",
              "      <th>labels</th>\n",
              "    </tr>\n",
              "  </thead>\n",
              "  <tbody>\n",
              "    <tr>\n",
              "      <th>227</th>\n",
              "      <td>Burger King</td>\n",
              "      <td>Chicken Caesar Salad w/ Crispy Chicken</td>\n",
              "      <td>670</td>\n",
              "      <td>43</td>\n",
              "      <td>80</td>\n",
              "      <td>1760</td>\n",
              "      <td>40</td>\n",
              "      <td>5.0</td>\n",
              "      <td>8</td>\n",
              "      <td>34.0</td>\n",
              "      <td>70.655184</td>\n",
              "      <td>99.970342</td>\n",
              "      <td>87.921816</td>\n",
              "      <td>1</td>\n",
              "    </tr>\n",
              "    <tr>\n",
              "      <th>299</th>\n",
              "      <td>Dairy Queen</td>\n",
              "      <td>Grilled Chicken Garden Greens Salad</td>\n",
              "      <td>150</td>\n",
              "      <td>2</td>\n",
              "      <td>40</td>\n",
              "      <td>730</td>\n",
              "      <td>10</td>\n",
              "      <td>3.0</td>\n",
              "      <td>6</td>\n",
              "      <td>23.0</td>\n",
              "      <td>70.655184</td>\n",
              "      <td>99.970342</td>\n",
              "      <td>87.921816</td>\n",
              "      <td>0</td>\n",
              "    </tr>\n",
              "    <tr>\n",
              "      <th>481</th>\n",
              "      <td>Taco Bell</td>\n",
              "      <td>Beefy Cheddar Crunchwrap Slider</td>\n",
              "      <td>410</td>\n",
              "      <td>19</td>\n",
              "      <td>25</td>\n",
              "      <td>960</td>\n",
              "      <td>46</td>\n",
              "      <td>4.0</td>\n",
              "      <td>3</td>\n",
              "      <td>14.0</td>\n",
              "      <td>70.655184</td>\n",
              "      <td>99.970342</td>\n",
              "      <td>87.921816</td>\n",
              "      <td>0</td>\n",
              "    </tr>\n",
              "  </tbody>\n",
              "</table>\n",
              "</div>\n",
              "      <button class=\"colab-df-convert\" onclick=\"convertToInteractive('df-657df73e-da09-48a5-8b5d-1ff0c52613c3')\"\n",
              "              title=\"Convert this dataframe to an interactive table.\"\n",
              "              style=\"display:none;\">\n",
              "        \n",
              "  <svg xmlns=\"http://www.w3.org/2000/svg\" height=\"24px\"viewBox=\"0 0 24 24\"\n",
              "       width=\"24px\">\n",
              "    <path d=\"M0 0h24v24H0V0z\" fill=\"none\"/>\n",
              "    <path d=\"M18.56 5.44l.94 2.06.94-2.06 2.06-.94-2.06-.94-.94-2.06-.94 2.06-2.06.94zm-11 1L8.5 8.5l.94-2.06 2.06-.94-2.06-.94L8.5 2.5l-.94 2.06-2.06.94zm10 10l.94 2.06.94-2.06 2.06-.94-2.06-.94-.94-2.06-.94 2.06-2.06.94z\"/><path d=\"M17.41 7.96l-1.37-1.37c-.4-.4-.92-.59-1.43-.59-.52 0-1.04.2-1.43.59L10.3 9.45l-7.72 7.72c-.78.78-.78 2.05 0 2.83L4 21.41c.39.39.9.59 1.41.59.51 0 1.02-.2 1.41-.59l7.78-7.78 2.81-2.81c.8-.78.8-2.07 0-2.86zM5.41 20L4 18.59l7.72-7.72 1.47 1.35L5.41 20z\"/>\n",
              "  </svg>\n",
              "      </button>\n",
              "      \n",
              "  <style>\n",
              "    .colab-df-container {\n",
              "      display:flex;\n",
              "      flex-wrap:wrap;\n",
              "      gap: 12px;\n",
              "    }\n",
              "\n",
              "    .colab-df-convert {\n",
              "      background-color: #E8F0FE;\n",
              "      border: none;\n",
              "      border-radius: 50%;\n",
              "      cursor: pointer;\n",
              "      display: none;\n",
              "      fill: #1967D2;\n",
              "      height: 32px;\n",
              "      padding: 0 0 0 0;\n",
              "      width: 32px;\n",
              "    }\n",
              "\n",
              "    .colab-df-convert:hover {\n",
              "      background-color: #E2EBFA;\n",
              "      box-shadow: 0px 1px 2px rgba(60, 64, 67, 0.3), 0px 1px 3px 1px rgba(60, 64, 67, 0.15);\n",
              "      fill: #174EA6;\n",
              "    }\n",
              "\n",
              "    [theme=dark] .colab-df-convert {\n",
              "      background-color: #3B4455;\n",
              "      fill: #D2E3FC;\n",
              "    }\n",
              "\n",
              "    [theme=dark] .colab-df-convert:hover {\n",
              "      background-color: #434B5C;\n",
              "      box-shadow: 0px 1px 3px 1px rgba(0, 0, 0, 0.15);\n",
              "      filter: drop-shadow(0px 1px 2px rgba(0, 0, 0, 0.3));\n",
              "      fill: #FFFFFF;\n",
              "    }\n",
              "  </style>\n",
              "\n",
              "      <script>\n",
              "        const buttonEl =\n",
              "          document.querySelector('#df-657df73e-da09-48a5-8b5d-1ff0c52613c3 button.colab-df-convert');\n",
              "        buttonEl.style.display =\n",
              "          google.colab.kernel.accessAllowed ? 'block' : 'none';\n",
              "\n",
              "        async function convertToInteractive(key) {\n",
              "          const element = document.querySelector('#df-657df73e-da09-48a5-8b5d-1ff0c52613c3');\n",
              "          const dataTable =\n",
              "            await google.colab.kernel.invokeFunction('convertToInteractive',\n",
              "                                                     [key], {});\n",
              "          if (!dataTable) return;\n",
              "\n",
              "          const docLinkHtml = 'Like what you see? Visit the ' +\n",
              "            '<a target=\"_blank\" href=https://colab.research.google.com/notebooks/data_table.ipynb>data table notebook</a>'\n",
              "            + ' to learn more about interactive tables.';\n",
              "          element.innerHTML = '';\n",
              "          dataTable['output_type'] = 'display_data';\n",
              "          await google.colab.output.renderOutput(dataTable, element);\n",
              "          const docLink = document.createElement('div');\n",
              "          docLink.innerHTML = docLinkHtml;\n",
              "          element.appendChild(docLink);\n",
              "        }\n",
              "      </script>\n",
              "    </div>\n",
              "  </div>\n",
              "  "
            ]
          },
          "metadata": {},
          "execution_count": 63
        }
      ],
      "source": [
        "df['labels'] = labels\n",
        "df.sample(3)"
      ]
    },
    {
      "cell_type": "markdown",
      "id": "484299c8",
      "metadata": {
        "papermill": {
          "duration": 0.01796,
          "end_time": "2023-05-14T11:40:00.158979",
          "exception": false,
          "start_time": "2023-05-14T11:40:00.141019",
          "status": "completed"
        },
        "tags": [],
        "id": "484299c8"
      },
      "source": [
        "#### Done first part 😌"
      ]
    },
    {
      "cell_type": "markdown",
      "id": "18572c69",
      "metadata": {
        "papermill": {
          "duration": 0.018407,
          "end_time": "2023-05-14T11:40:00.195406",
          "exception": false,
          "start_time": "2023-05-14T11:40:00.176999",
          "status": "completed"
        },
        "tags": [],
        "id": "18572c69"
      },
      "source": [
        "## Pemisahan data menjadi \"makanan yang sehat\" dan \"makanan yang tidak sehat\""
      ]
    },
    {
      "cell_type": "code",
      "execution_count": null,
      "id": "4284196d",
      "metadata": {
        "execution": {
          "iopub.execute_input": "2023-05-14T11:40:00.233934Z",
          "iopub.status.busy": "2023-05-14T11:40:00.233319Z",
          "iopub.status.idle": "2023-05-14T11:40:00.572042Z",
          "shell.execute_reply": "2023-05-14T11:40:00.570657Z"
        },
        "papermill": {
          "duration": 0.361384,
          "end_time": "2023-05-14T11:40:00.575052",
          "exception": false,
          "start_time": "2023-05-14T11:40:00.213668",
          "status": "completed"
        },
        "tags": [],
        "id": "4284196d"
      },
      "outputs": [],
      "source": [
        "import seaborn as sn"
      ]
    },
    {
      "cell_type": "code",
      "execution_count": null,
      "id": "f7d828fa",
      "metadata": {
        "execution": {
          "iopub.execute_input": "2023-05-14T11:40:00.649242Z",
          "iopub.status.busy": "2023-05-14T11:40:00.648814Z",
          "iopub.status.idle": "2023-05-14T11:40:00.660964Z",
          "shell.execute_reply": "2023-05-14T11:40:00.659427Z"
        },
        "papermill": {
          "duration": 0.034296,
          "end_time": "2023-05-14T11:40:00.663972",
          "exception": false,
          "start_time": "2023-05-14T11:40:00.629676",
          "status": "completed"
        },
        "tags": [],
        "colab": {
          "base_uri": "https://localhost:8080/"
        },
        "id": "f7d828fa",
        "outputId": "5fdda297-d31a-4f04-ad0e-9afb65e0c4fb"
      },
      "outputs": [
        {
          "output_type": "stream",
          "name": "stdout",
          "text": [
            "label 0 198\n",
            "label 1 98\n",
            "label 2 201\n",
            "label 3 18\n"
          ]
        }
      ],
      "source": [
        "label_0 = df[df['labels']==0]\n",
        "label_1 = df[df['labels']==1]\n",
        "label_2 = df[df['labels']==2]\n",
        "label_3 = df[df['labels']==3]\n",
        "print(\"label 0\",len(label_0))\n",
        "print(\"label 1\",len(label_1))\n",
        "print(\"label 2\",len(label_2))\n",
        "print(\"label 3\",len(label_3))"
      ]
    },
    {
      "cell_type": "markdown",
      "id": "d743b4f3",
      "metadata": {
        "papermill": {
          "duration": 0.017924,
          "end_time": "2023-05-14T11:40:00.699739",
          "exception": false,
          "start_time": "2023-05-14T11:40:00.681815",
          "status": "completed"
        },
        "tags": [],
        "id": "d743b4f3"
      },
      "source": [
        "### ----> Mengumpulkan rata-rata dari nutrisi yang terkandung"
      ]
    },
    {
      "cell_type": "code",
      "execution_count": null,
      "id": "1e7017b8",
      "metadata": {
        "execution": {
          "iopub.execute_input": "2023-05-14T11:40:00.739819Z",
          "iopub.status.busy": "2023-05-14T11:40:00.738274Z",
          "iopub.status.idle": "2023-05-14T11:40:00.880931Z",
          "shell.execute_reply": "2023-05-14T11:40:00.879155Z"
        },
        "papermill": {
          "duration": 0.165118,
          "end_time": "2023-05-14T11:40:00.883664",
          "exception": false,
          "start_time": "2023-05-14T11:40:00.718546",
          "status": "completed"
        },
        "tags": [],
        "colab": {
          "base_uri": "https://localhost:8080/"
        },
        "id": "1e7017b8",
        "outputId": "9caf8318-2855-4f67-8bc6-3636ae35b713"
      },
      "outputs": [
        {
          "output_type": "stream",
          "name": "stdout",
          "text": [
            "label_0_nutri_avg [284.56585313  38.82217361  65.06166896 519.32941155  51.38060319\n",
            "  35.07344277  29.42060259  38.32580546  73.26778613  81.79601288\n",
            "  64.62109648  24.75      ]\n",
            "label_1_nutri_avg [ 646.35283328   51.63469021  181.21494705 1545.57741549   66.69882916\n",
            "   26.19006499   25.13430569   53.71263679   44.28259088   97.96417381\n",
            "   87.42972418   13.        ]\n",
            "label_2_nutri_avg [472.02917858  49.07670752  88.87289844 993.66793659  65.64652803\n",
            "  36.82189246  34.07306585  48.91445255  69.67027789  65.96102437\n",
            "  63.64299593  26.625     ]\n",
            "label_3_nutri_avg [1011.37568291   55.95993375  173.92182166 2885.42513991   72.81028462\n",
            "    7.87188299   20.97542441   67.80956216   22.40157091   37.87450995\n",
            "   39.65991935    4.5       ]\n"
          ]
        }
      ],
      "source": [
        "nutritions = list(label_0.describe().columns)\n",
        "label_0_nutri_avg = label_0.describe().mean().values\n",
        "label_1_nutri_avg = label_1.describe().mean().values\n",
        "label_2_nutri_avg = label_2.describe().mean().values\n",
        "label_3_nutri_avg = label_3.describe().mean().values\n",
        "\n",
        "print(\"label_0_nutri_avg\",label_0_nutri_avg)\n",
        "print(\"label_1_nutri_avg\",label_1_nutri_avg)\n",
        "print(\"label_2_nutri_avg\",label_2_nutri_avg)\n",
        "print(\"label_3_nutri_avg\",label_3_nutri_avg)"
      ]
    },
    {
      "cell_type": "markdown",
      "id": "c3d1dafd",
      "metadata": {
        "papermill": {
          "duration": 0.017563,
          "end_time": "2023-05-14T11:40:00.919432",
          "exception": false,
          "start_time": "2023-05-14T11:40:00.901869",
          "status": "completed"
        },
        "tags": [],
        "id": "c3d1dafd"
      },
      "source": [
        "### ----> Visualisasi dengan penamaan label pada tiap cluster\n",
        "* label 0\n",
        "* label 1\n",
        "* label 2\n",
        "* label 3"
      ]
    },
    {
      "cell_type": "code",
      "execution_count": null,
      "id": "0aab60a3",
      "metadata": {
        "execution": {
          "iopub.execute_input": "2023-05-14T11:40:00.957104Z",
          "iopub.status.busy": "2023-05-14T11:40:00.956196Z",
          "iopub.status.idle": "2023-05-14T11:40:01.238503Z",
          "shell.execute_reply": "2023-05-14T11:40:01.237238Z"
        },
        "papermill": {
          "duration": 0.304373,
          "end_time": "2023-05-14T11:40:01.241446",
          "exception": false,
          "start_time": "2023-05-14T11:40:00.937073",
          "status": "completed"
        },
        "tags": [],
        "colab": {
          "base_uri": "https://localhost:8080/",
          "height": 558
        },
        "id": "0aab60a3",
        "outputId": "9f4dc866-5ae0-499d-cdf3-34515f918153"
      },
      "outputs": [
        {
          "output_type": "display_data",
          "data": {
            "text/plain": [
              "<Figure size 800x550 with 1 Axes>"
            ],
            "image/png": "[encoded data removed]"
          },
          "metadata": {}
        }
      ],
      "source": [
        "# label 0\n",
        "sn.barplot(x=nutritions,y=label_0_nutri_avg)\n",
        "plt.title(\"Jumlah nutrisi yang terkandung pada label 0\")\n",
        "plt.xticks(rotation=90)\n",
        "plt.ylim([0,3000])\n",
        "plt.show()"
      ]
    },
    {
      "cell_type": "code",
      "execution_count": null,
      "id": "b3e24d87",
      "metadata": {
        "execution": {
          "iopub.execute_input": "2023-05-14T11:40:01.280648Z",
          "iopub.status.busy": "2023-05-14T11:40:01.279443Z",
          "iopub.status.idle": "2023-05-14T11:40:01.569260Z",
          "shell.execute_reply": "2023-05-14T11:40:01.567649Z"
        },
        "papermill": {
          "duration": 0.312839,
          "end_time": "2023-05-14T11:40:01.572557",
          "exception": false,
          "start_time": "2023-05-14T11:40:01.259718",
          "status": "completed"
        },
        "tags": [],
        "colab": {
          "base_uri": "https://localhost:8080/",
          "height": 558
        },
        "id": "b3e24d87",
        "outputId": "19330353-974b-498a-ed6f-9df4eaa2759f"
      },
      "outputs": [
        {
          "output_type": "display_data",
          "data": {
            "text/plain": [
              "<Figure size 800x550 with 1 Axes>"
            ],
            "image/png": "[encoded data removed]"
          },
          "metadata": {}
        }
      ],
      "source": [
        "# label 1\n",
        "sn.barplot(x=nutritions,y=label_1_nutri_avg)\n",
        "plt.title(\"Jumlah nutrisi yang terkandung pada label 1\")\n",
        "plt.xticks(rotation=90)\n",
        "plt.ylim([0,3000])\n",
        "plt.show()"
      ]
    },
    {
      "cell_type": "code",
      "execution_count": null,
      "id": "59d1e55f",
      "metadata": {
        "execution": {
          "iopub.execute_input": "2023-05-14T11:40:01.612765Z",
          "iopub.status.busy": "2023-05-14T11:40:01.612318Z",
          "iopub.status.idle": "2023-05-14T11:40:01.899192Z",
          "shell.execute_reply": "2023-05-14T11:40:01.897908Z"
        },
        "papermill": {
          "duration": 0.309914,
          "end_time": "2023-05-14T11:40:01.901877",
          "exception": false,
          "start_time": "2023-05-14T11:40:01.591963",
          "status": "completed"
        },
        "tags": [],
        "colab": {
          "base_uri": "https://localhost:8080/",
          "height": 558
        },
        "id": "59d1e55f",
        "outputId": "97408179-e1bc-4aed-a519-f7f52ac7b68f"
      },
      "outputs": [
        {
          "output_type": "display_data",
          "data": {
            "text/plain": [
              "<Figure size 800x550 with 1 Axes>"
            ],
            "image/png": "[encoded data removed]"
          },
          "metadata": {}
        }
      ],
      "source": [
        "# label 2\n",
        "sn.barplot(x=nutritions,y=label_2_nutri_avg)\n",
        "plt.title(\"Jumlah nutrisi yang terkandung pada label 2\")\n",
        "plt.xticks(rotation=90)\n",
        "plt.ylim([0,3000])\n",
        "plt.show()"
      ]
    },
    {
      "cell_type": "markdown",
      "id": "e1d2da0a",
      "metadata": {
        "papermill": {
          "duration": 0.019112,
          "end_time": "2023-05-14T11:40:02.017928",
          "exception": false,
          "start_time": "2023-05-14T11:40:01.998816",
          "status": "completed"
        },
        "tags": [],
        "id": "e1d2da0a"
      },
      "source": [
        "### ----> Membuat clustering baru menjadi 2 yaitu yang berupa nutrisi baik dan nutrisi buruk"
      ]
    },
    {
      "cell_type": "code",
      "execution_count": null,
      "id": "0de4c4ea",
      "metadata": {
        "execution": {
          "iopub.execute_input": "2023-05-14T11:40:02.058386Z",
          "iopub.status.busy": "2023-05-14T11:40:02.057951Z",
          "iopub.status.idle": "2023-05-14T11:40:02.063669Z",
          "shell.execute_reply": "2023-05-14T11:40:02.062298Z"
        },
        "papermill": {
          "duration": 0.028707,
          "end_time": "2023-05-14T11:40:02.066101",
          "exception": false,
          "start_time": "2023-05-14T11:40:02.037394",
          "status": "completed"
        },
        "tags": [],
        "id": "0de4c4ea"
      },
      "outputs": [],
      "source": [
        "positive_ntr = ['protein','calcium','total_carb','vit_a','vit_c','fiber']\n",
        "negative_ntr = ['sugar','calories','total_fat','sodium','cholesterol']"
      ]
    },
    {
      "cell_type": "markdown",
      "id": "f1f3a362",
      "metadata": {
        "papermill": {
          "duration": 0.019829,
          "end_time": "2023-05-14T11:40:02.105733",
          "exception": false,
          "start_time": "2023-05-14T11:40:02.085904",
          "status": "completed"
        },
        "tags": [],
        "id": "f1f3a362"
      },
      "source": [
        "### ----> Mengumpulkan rata-rata untuk nutrisi yang terkandung dalam makanan"
      ]
    },
    {
      "cell_type": "code",
      "execution_count": null,
      "id": "b14e50f2",
      "metadata": {
        "execution": {
          "iopub.execute_input": "2023-05-14T11:40:02.146890Z",
          "iopub.status.busy": "2023-05-14T11:40:02.146474Z",
          "iopub.status.idle": "2023-05-14T11:40:02.155079Z",
          "shell.execute_reply": "2023-05-14T11:40:02.153831Z"
        },
        "papermill": {
          "duration": 0.032066,
          "end_time": "2023-05-14T11:40:02.157490",
          "exception": false,
          "start_time": "2023-05-14T11:40:02.125424",
          "status": "completed"
        },
        "tags": [],
        "colab": {
          "base_uri": "https://localhost:8080/"
        },
        "id": "b14e50f2",
        "outputId": "288aba15-47b3-429a-d04a-47697868db8f"
      },
      "outputs": [
        {
          "output_type": "stream",
          "name": "stdout",
          "text": [
            "label_0_zipped {'calories': 284.565853125518, 'total_fat': 38.8221736070514, 'cholesterol': 65.06166896101948, 'sodium': 519.3294115532656, 'total_carb': 51.3806031862152, 'fiber': 35.07344277032587, 'sugar': 29.420602585977285, 'protein': 38.32580545912687, 'vit_a': 73.26778613317569, 'vit_c': 81.79601287982078, 'calcium': 64.62109647845732, 'labels': 24.75}\n",
            "\n",
            "\n",
            "label_1_zipped {'calories': 646.3528332826143, 'total_fat': 51.6346902054411, 'cholesterol': 181.2149470460958, 'sodium': 1545.5774154854275, 'total_carb': 66.69882916384057, 'fiber': 26.190064985926586, 'sugar': 25.13430568804795, 'protein': 53.712636790339644, 'vit_a': 44.282590875757165, 'vit_c': 97.96417380567384, 'calcium': 87.42972417857777, 'labels': 13.0}\n",
            "\n",
            "\n",
            "label_2_zipped {'calories': 472.02917858344045, 'total_fat': 49.076707524835186, 'cholesterol': 88.87289844483453, 'sodium': 993.6679365853396, 'total_carb': 65.64652802890258, 'fiber': 36.8218924615535, 'sugar': 34.07306584697652, 'protein': 48.91445254658747, 'vit_a': 69.67027788747987, 'vit_c': 65.96102436772374, 'calcium': 63.642995934213566, 'labels': 26.625}\n",
            "\n",
            "\n",
            "label_3_zipped {'calories': 1011.3756829141173, 'total_fat': 55.959933745704, 'cholesterol': 173.92182165546103, 'sodium': 2885.425139906712, 'total_carb': 72.8102846219574, 'fiber': 7.871882989529226, 'sugar': 20.9754244063496, 'protein': 67.80956215650343, 'vit_a': 22.401570914974215, 'vit_c': 37.87450995310717, 'calcium': 39.659919351158976, 'labels': 4.5}\n"
          ]
        }
      ],
      "source": [
        "def zipper(lis1,lis2):\n",
        "    temp = {}\n",
        "    for v1,v2 in zip(lis1,lis2):\n",
        "        temp[v1] = v2\n",
        "    return temp\n",
        "\n",
        "label_0_dic = zipper(nutritions,label_0_nutri_avg)\n",
        "label_1_dic = zipper(nutritions,label_1_nutri_avg)\n",
        "label_2_dic = zipper(nutritions,label_2_nutri_avg)\n",
        "label_3_dic = zipper(nutritions,label_3_nutri_avg)\n",
        "\n",
        "print(\"label_0_zipped\",label_0_dic)\n",
        "print(\"\\n\\nlabel_1_zipped\",label_1_dic)\n",
        "print(\"\\n\\nlabel_2_zipped\",label_2_dic)\n",
        "print(\"\\n\\nlabel_3_zipped\",label_3_dic)"
      ]
    },
    {
      "cell_type": "code",
      "execution_count": null,
      "id": "3bc3229b",
      "metadata": {
        "execution": {
          "iopub.execute_input": "2023-05-14T11:40:02.238857Z",
          "iopub.status.busy": "2023-05-14T11:40:02.237718Z",
          "iopub.status.idle": "2023-05-14T11:40:02.251034Z",
          "shell.execute_reply": "2023-05-14T11:40:02.249903Z"
        },
        "papermill": {
          "duration": 0.037116,
          "end_time": "2023-05-14T11:40:02.253772",
          "exception": false,
          "start_time": "2023-05-14T11:40:02.216656",
          "status": "completed"
        },
        "tags": [],
        "id": "3bc3229b"
      },
      "outputs": [],
      "source": [
        "pn_avg_label_0 = {}\n",
        "pn_avg_label_1 = {}\n",
        "pn_avg_label_2 = {}\n",
        "pn_avg_label_3 = {}\n",
        "for i in range(3):\n",
        "    lis1 = []\n",
        "    lis2 = []\n",
        "    lis3 = []\n",
        "    lis4 = []\n",
        "    for pos_val in positive_ntr:\n",
        "        lis1.append(label_0_dic[pos_val])\n",
        "        lis2.append(label_1_dic[pos_val])\n",
        "        lis3.append(label_2_dic[pos_val])\n",
        "        lis4.append(label_3_dic[pos_val])\n",
        "    pn_avg_label_0['pos'] = sum(lis1)/len(lis1)\n",
        "    pn_avg_label_1['pos'] = sum(lis2)/len(lis2)\n",
        "    pn_avg_label_2['pos'] = sum(lis3)/len(lis3)\n",
        "    pn_avg_label_3['pos'] = sum(lis4)/len(lis4)\n",
        "\n",
        "\n",
        "for i in range(3):\n",
        "    lis1 = []\n",
        "    lis2 = []\n",
        "    lis3 = []\n",
        "    lis4 = []\n",
        "    for pos_val in negative_ntr:\n",
        "        lis1.append(label_0_dic[pos_val])\n",
        "        lis2.append(label_1_dic[pos_val])\n",
        "        lis3.append(label_2_dic[pos_val])\n",
        "        lis4.append(label_3_dic[pos_val])\n",
        "    pn_avg_label_0['neg'] = sum(lis1)/len(lis1)\n",
        "    pn_avg_label_1['neg'] = sum(lis2)/len(lis2)\n",
        "    pn_avg_label_2['neg'] = sum(lis3)/len(lis3)\n",
        "    pn_avg_label_3['neg'] = sum(lis4)/len(lis4)"
      ]
    },
    {
      "cell_type": "code",
      "execution_count": null,
      "id": "a960b96a",
      "metadata": {
        "execution": {
          "iopub.execute_input": "2023-05-14T11:40:02.295620Z",
          "iopub.status.busy": "2023-05-14T11:40:02.295166Z",
          "iopub.status.idle": "2023-05-14T11:40:02.301442Z",
          "shell.execute_reply": "2023-05-14T11:40:02.300038Z"
        },
        "papermill": {
          "duration": 0.030407,
          "end_time": "2023-05-14T11:40:02.304088",
          "exception": false,
          "start_time": "2023-05-14T11:40:02.273681",
          "status": "completed"
        },
        "tags": [],
        "id": "a960b96a"
      },
      "outputs": [],
      "source": [
        "pos = [pn_avg_label_0['pos'],pn_avg_label_1['pos'],pn_avg_label_2['pos'],pn_avg_label_3['pos']]\n",
        "neg = [pn_avg_label_0['neg'],pn_avg_label_1['neg'],pn_avg_label_2['neg'],pn_avg_label_3['neg']]"
      ]
    },
    {
      "cell_type": "code",
      "execution_count": null,
      "id": "fbbb3bf1",
      "metadata": {
        "execution": {
          "iopub.execute_input": "2023-05-14T11:40:02.345707Z",
          "iopub.status.busy": "2023-05-14T11:40:02.344592Z",
          "iopub.status.idle": "2023-05-14T11:40:02.349798Z",
          "shell.execute_reply": "2023-05-14T11:40:02.348659Z"
        },
        "papermill": {
          "duration": 0.028593,
          "end_time": "2023-05-14T11:40:02.352168",
          "exception": false,
          "start_time": "2023-05-14T11:40:02.323575",
          "status": "completed"
        },
        "tags": [],
        "id": "fbbb3bf1"
      },
      "outputs": [],
      "source": [
        "labels = [\"label_0\",\"label_1\",\"label_2\",\"label_3\"]"
      ]
    },
    {
      "cell_type": "markdown",
      "id": "ebc74715",
      "metadata": {
        "papermill": {
          "duration": 0.019307,
          "end_time": "2023-05-14T11:40:02.391199",
          "exception": false,
          "start_time": "2023-05-14T11:40:02.371892",
          "status": "completed"
        },
        "tags": [],
        "id": "ebc74715"
      },
      "source": [
        "### ----> Memvisualisasikan data makanan yang mengandung nutrisi baik untuk setiap label yang dibuat sebelumnya"
      ]
    },
    {
      "cell_type": "code",
      "execution_count": null,
      "id": "322664ff",
      "metadata": {
        "execution": {
          "iopub.execute_input": "2023-05-14T11:40:02.432980Z",
          "iopub.status.busy": "2023-05-14T11:40:02.432546Z",
          "iopub.status.idle": "2023-05-14T11:40:02.603468Z",
          "shell.execute_reply": "2023-05-14T11:40:02.601863Z"
        },
        "papermill": {
          "duration": 0.195722,
          "end_time": "2023-05-14T11:40:02.607062",
          "exception": false,
          "start_time": "2023-05-14T11:40:02.411340",
          "status": "completed"
        },
        "tags": [],
        "colab": {
          "base_uri": "https://localhost:8080/",
          "height": 480
        },
        "id": "322664ff",
        "outputId": "87b670cd-33ce-4645-e0e7-eb5711c12896"
      },
      "outputs": [
        {
          "output_type": "display_data",
          "data": {
            "text/plain": [
              "<Figure size 800x550 with 1 Axes>"
            ],
            "image/png": "[encoded data removed]"
          },
          "metadata": {}
        }
      ],
      "source": [
        "data = pos\n",
        "\n",
        "palette_color = sn.color_palette('bright')\n",
        "explode = [0,0.1,0,0]\n",
        "plt.pie(data, explode = explode, labels=labels, colors=palette_color, autopct='%.0f%%')\n",
        "plt.title(\"positive neutrition distribution\")\n",
        "plt.show()"
      ]
    },
    {
      "cell_type": "code",
      "execution_count": null,
      "id": "0d5caa54",
      "metadata": {
        "execution": {
          "iopub.execute_input": "2023-05-14T11:40:02.671464Z",
          "iopub.status.busy": "2023-05-14T11:40:02.670680Z",
          "iopub.status.idle": "2023-05-14T11:40:03.057945Z",
          "shell.execute_reply": "2023-05-14T11:40:03.056667Z"
        },
        "papermill": {
          "duration": 0.419781,
          "end_time": "2023-05-14T11:40:03.060772",
          "exception": false,
          "start_time": "2023-05-14T11:40:02.640991",
          "status": "completed"
        },
        "tags": [],
        "colab": {
          "base_uri": "https://localhost:8080/",
          "height": 524
        },
        "id": "0d5caa54",
        "outputId": "dec428db-ad9e-47d5-99ee-407c50e5f0fc"
      },
      "outputs": [
        {
          "output_type": "display_data",
          "data": {
            "text/plain": [
              "<Figure size 800x550 with 1 Axes>"
            ],
            "image/png": "[encoded data removed]"
          },
          "metadata": {}
        }
      ],
      "source": [
        "sn.barplot(x=labels,y=pos)\n",
        "plt.title(\"positive nutritions average value for 4 clusters\")\n",
        "plt.xlabel(\"cluster or labels\")\n",
        "plt.ylabel(\"average value of positive nutritions\")\n",
        "plt.show()"
      ]
    },
    {
      "cell_type": "markdown",
      "id": "b41458cf",
      "metadata": {
        "papermill": {
          "duration": 0.020706,
          "end_time": "2023-05-14T11:40:03.103230",
          "exception": false,
          "start_time": "2023-05-14T11:40:03.082524",
          "status": "completed"
        },
        "tags": [],
        "id": "b41458cf"
      },
      "source": [
        "### ----> Memvisualisasikan data makanan yang mengandung nutrisi buruk untuk setiap label yang dibuat sebelumnya"
      ]
    },
    {
      "cell_type": "code",
      "execution_count": null,
      "id": "93968103",
      "metadata": {
        "execution": {
          "iopub.execute_input": "2023-05-14T11:40:03.147257Z",
          "iopub.status.busy": "2023-05-14T11:40:03.146806Z",
          "iopub.status.idle": "2023-05-14T11:40:03.296556Z",
          "shell.execute_reply": "2023-05-14T11:40:03.295321Z"
        },
        "papermill": {
          "duration": 0.175603,
          "end_time": "2023-05-14T11:40:03.299848",
          "exception": false,
          "start_time": "2023-05-14T11:40:03.124245",
          "status": "completed"
        },
        "tags": [],
        "colab": {
          "base_uri": "https://localhost:8080/",
          "height": 480
        },
        "id": "93968103",
        "outputId": "0d31ada3-4422-4a85-c248-6fd9e4d4f482"
      },
      "outputs": [
        {
          "output_type": "display_data",
          "data": {
            "text/plain": [
              "<Figure size 800x550 with 1 Axes>"
            ],
            "image/png": "[encoded data removed]"
          },
          "metadata": {}
        }
      ],
      "source": [
        "data = neg\n",
        "\n",
        "palette_color = sn.color_palette('bright')\n",
        "explode = [0.3,0,0,0]\n",
        "plt.pie(data, explode=explode, labels=labels, colors=palette_color, autopct='%.0f%%')\n",
        "plt.title(\"negative neutrition distribution\")\n",
        "plt.show()"
      ]
    },
    {
      "cell_type": "code",
      "execution_count": null,
      "id": "0166b851",
      "metadata": {
        "execution": {
          "iopub.execute_input": "2023-05-14T11:40:03.365351Z",
          "iopub.status.busy": "2023-05-14T11:40:03.364562Z",
          "iopub.status.idle": "2023-05-14T11:40:03.596887Z",
          "shell.execute_reply": "2023-05-14T11:40:03.595566Z"
        },
        "papermill": {
          "duration": 0.263248,
          "end_time": "2023-05-14T11:40:03.599685",
          "exception": false,
          "start_time": "2023-05-14T11:40:03.336437",
          "status": "completed"
        },
        "tags": [],
        "colab": {
          "base_uri": "https://localhost:8080/",
          "height": 524
        },
        "id": "0166b851",
        "outputId": "b867d8bf-1502-4a4e-de2b-ff68fd8201da"
      },
      "outputs": [
        {
          "output_type": "display_data",
          "data": {
            "text/plain": [
              "<Figure size 800x550 with 1 Axes>"
            ],
            "image/png": "[encoded data removed]"
          },
          "metadata": {}
        }
      ],
      "source": [
        "sn.barplot(x = labels,y=neg)\n",
        "plt.title(\"negative nutritions average value for 4 clusters\")\n",
        "plt.xlabel(\"cluster or labels\")\n",
        "plt.ylabel(\"average value of negative nutritions\")\n",
        "plt.show()"
      ]
    },
    {
      "cell_type": "markdown",
      "id": "1e031f61",
      "metadata": {
        "papermill": {
          "duration": 0.022466,
          "end_time": "2023-05-14T11:40:03.646051",
          "exception": false,
          "start_time": "2023-05-14T11:40:03.623585",
          "status": "completed"
        },
        "tags": [],
        "id": "1e031f61"
      },
      "source": [
        "## Membagi makanan mana saja yang boleh dimakan secara sehat"
      ]
    },
    {
      "cell_type": "code",
      "execution_count": null,
      "id": "b435376c",
      "metadata": {
        "execution": {
          "iopub.execute_input": "2023-05-14T11:40:03.696506Z",
          "iopub.status.busy": "2023-05-14T11:40:03.695729Z",
          "iopub.status.idle": "2023-05-14T11:40:03.700980Z",
          "shell.execute_reply": "2023-05-14T11:40:03.700081Z"
        },
        "papermill": {
          "duration": 0.0333,
          "end_time": "2023-05-14T11:40:03.703584",
          "exception": false,
          "start_time": "2023-05-14T11:40:03.670284",
          "status": "completed"
        },
        "tags": [],
        "id": "b435376c"
      },
      "outputs": [],
      "source": [
        "# label_name = (positive,negative)\n",
        "label_0_pn = (26,10)\n",
        "label_1_pn = (29,27)\n",
        "label_2_pn = (27,18)\n",
        "label_3_pn = (19,45)\n",
        "labels_pos_neg = [label_0_pn,label_1_pn,label_2_pn,label_3_pn]"
      ]
    },
    {
      "cell_type": "code",
      "execution_count": null,
      "id": "459ed7c4",
      "metadata": {
        "execution": {
          "iopub.execute_input": "2023-05-14T11:40:03.754424Z",
          "iopub.status.busy": "2023-05-14T11:40:03.753213Z",
          "iopub.status.idle": "2023-05-14T11:40:03.760770Z",
          "shell.execute_reply": "2023-05-14T11:40:03.759589Z"
        },
        "papermill": {
          "duration": 0.035903,
          "end_time": "2023-05-14T11:40:03.763043",
          "exception": false,
          "start_time": "2023-05-14T11:40:03.727140",
          "status": "completed"
        },
        "tags": [],
        "colab": {
          "base_uri": "https://localhost:8080/"
        },
        "id": "459ed7c4",
        "outputId": "039cb370-f9c3-4f92-99ed-b2947662ad86"
      },
      "outputs": [
        {
          "output_type": "execute_result",
          "data": {
            "text/plain": [
              "[16, 2, 9, -26]"
            ]
          },
          "metadata": {},
          "execution_count": 80
        }
      ],
      "source": [
        "healthy_level = [pos-neg for pos,neg in labels_pos_neg]\n",
        "healthy_level"
      ]
    },
    {
      "cell_type": "markdown",
      "id": "fc038f93",
      "metadata": {
        "papermill": {
          "duration": 0.024379,
          "end_time": "2023-05-14T11:40:03.811143",
          "exception": false,
          "start_time": "2023-05-14T11:40:03.786764",
          "status": "completed"
        },
        "tags": [],
        "id": "fc038f93"
      },
      "source": [
        "## Makanan sehat dari fastfood"
      ]
    },
    {
      "cell_type": "code",
      "execution_count": null,
      "id": "07ac3a5a",
      "metadata": {
        "execution": {
          "iopub.execute_input": "2023-05-14T11:40:03.861977Z",
          "iopub.status.busy": "2023-05-14T11:40:03.860738Z",
          "iopub.status.idle": "2023-05-14T11:40:03.869809Z",
          "shell.execute_reply": "2023-05-14T11:40:03.868616Z"
        },
        "papermill": {
          "duration": 0.037258,
          "end_time": "2023-05-14T11:40:03.872075",
          "exception": false,
          "start_time": "2023-05-14T11:40:03.834817",
          "status": "completed"
        },
        "tags": [],
        "colab": {
          "base_uri": "https://localhost:8080/"
        },
        "id": "07ac3a5a",
        "outputId": "926c0ddd-0e5e-474d-e1f0-b4b7a0a49151"
      },
      "outputs": [
        {
          "output_type": "execute_result",
          "data": {
            "text/plain": [
              "array(['Cheeseburger', 'Filet-O-Fish®', 'Garlic White Cheddar Burger',\n",
              "       'Hamburger', 'Lobster Roll', 'McChicken', 'McDouble', 'McRib',\n",
              "       '3 piece Buttermilk Crispy Chicken Tenders',\n",
              "       '4 Piece Chicken McNuggets', '6 Piece Chicken McNuggets',\n",
              "       '10 Piece Chicken McNuggets', 'Premium Asian Salad w/o Chicken',\n",
              "       'Premium Asian Salad w/ Grilled Chicken',\n",
              "       'Premium Bacon Ranch Salad w/o Chicken',\n",
              "       'Premium Southwest Salad w/o Chicken',\n",
              "       'Chargrilled Chicken Sandwich', 'Chick-n-Slider',\n",
              "       '1 Piece Chick-n-Strips', '2 Piece Chick-n-Strips',\n",
              "       '3 Piece Chick-n-Strips', '4 piece Chicken Nuggets',\n",
              "       '6 piece Chicken Nuggets', '8 piece Chicken Nuggets',\n",
              "       '4 Piece Grilled Chicken Nuggets',\n",
              "       '6 Piece Grilled Chicken Nuggets',\n",
              "       '8 piece Grilled Chicken Nuggets',\n",
              "       '12 Piece Grilled Chicken Nuggets',\n",
              "       'Chargrilled Chicken Cool Wrap', 'Jr. Burger',\n",
              "       'Jr. Chili Cheeseburger', 'Jr. Deluxe Burger',\n",
              "       'Jr. Deluxe Cheeseburger', 'Sonic Burger W/ Mustard',\n",
              "       'Sonic Burger W/ Ketchup', 'Sonic Burger W/ Mayonnaise',\n",
              "       'Grilled Chicken Sandwich', 'Chicken Strip Sandwich',\n",
              "       '3 Piece Crispy Chicken Tender Dinner',\n",
              "       'Small Spicy Jumbo Popcorn Chicken',\n",
              "       '3 Piece Super Crunch Chicken Strips',\n",
              "       '4 Piece Super Crunch Chicken Strips',\n",
              "       'All Beef Regular Hot Dog – 6\"', 'Corn Dog',\n",
              "       'The Original Pretzel Dog', \"Arby's Melt\", 'Classic Roast Beef',\n",
              "       '2 piece Prime-Cut Chicken Tenders',\n",
              "       '3 piece Prime-Cut Chicken Tenders', 'Buffalo Chicken Slider',\n",
              "       \"Chicken Tender 'n Cheese Slider\", \"Corned Beef 'n Cheese Slider\",\n",
              "       \"Ham 'n Cheese Slider\", \"Jalapeno Roast Beef 'n Cheese Slider\",\n",
              "       'Pizza Slider', \"Roast Beef 'n Cheese Slider\",\n",
              "       \"Turkey 'n Cheese Slider\", 'Chopped Side Salad',\n",
              "       'Greek Gyro Salad', 'Roast Turkey Farmhouse Salad',\n",
              "       'Bacon Cheeseburger', 'Bacon Cheeseburger Deluxe',\n",
              "       'Double Hamburger', 'Rodeo Burger', 'WHOPPER JR. w/o Cheese',\n",
              "       'WHOPPER JR. w/ Cheese',\n",
              "       'Garden Grilled Chicken Salad w/ Grilled Chicken, no dressing',\n",
              "       'Side Caesar Salad with dressing',\n",
              "       'Side Garden Salad and Avocado Ranch Dressing',\n",
              "       'BBQ Bacon Crispy Chicken Sandwich', 'Chicken Fries',\n",
              "       '4 Piece Chicken Nuggets', '6 Piece Chicken Nuggets',\n",
              "       'Chicken Nuggets (10pc)', 'Crispy Chicken Jr.',\n",
              "       'Grilled Chili Cheese Dog', 'Grilled Hot Dog',\n",
              "       'Jalapeno Chicken Fries', 'Rodeo Crispy Chicken Sandwich',\n",
              "       '4 Piece Spicy Chicken Nuggets', 'Spicy Crispy Chicken Jr.',\n",
              "       '1/4 lb. Mushroom Swiss GrillBurger', 'Original Cheeseburger',\n",
              "       'Chili Cheese Dog', 'Hot Dog', 'Relish Dog',\n",
              "       'Barbecue Pork Sandwich', 'Breaded Mushrooms',\n",
              "       'Regular Cheese Curds', 'Deluxe Cheeseburger',\n",
              "       'Deluxe Double Hamburger', 'Deluxe Hamburger',\n",
              "       '3 chicken strips Chicken Strips',\n",
              "       'Crispy Chicken Garden Greens Salad', 'Crispy Chicken Wrap',\n",
              "       'Grilled Chicken Garden Greens Salad', 'Grilled Chicken Wrap',\n",
              "       'Side Salad', '6\" B.L.T.', '6\" BBQ Rib Sandwich',\n",
              "       'Kids Mini Sub Black Forest Ham', '6\" Black Forest Ham',\n",
              "       '6\" Carved Turkey', '6\" Oven Roasted Chicken',\n",
              "       'Kids Mini Sub Roast Beef', '6\" Roast Beef',\n",
              "       '6\" Rotisserie Style Chicken', '6\" Subway Club',\n",
              "       '6\" Subway Seafood Sensation', '6\" Sweet Onion Chicken Teriyaki',\n",
              "       '6\" Tuna', '6\" Turkey & Bacon Avocado',\n",
              "       'Kids Mini Sub Turkey Breast', '6\" Turkey Breast',\n",
              "       '6\" Turkey Breast & Ham', 'Kids Mini Sub Veggie Delite',\n",
              "       '6\" Veggie Delite', 'Footlong Veggie Delite', '6\" Veggie Patty',\n",
              "       'B.L.T. Salad', 'Black Forest Ham Salad', 'Carved Turkey Salad',\n",
              "       'Cold Cut Combo Salad', 'Double Chicken Salad',\n",
              "       'Meatball Marinara Salad', 'Oven Roasted Chicken Salad',\n",
              "       'Roast Beef Salad', 'Steak & Cheese Salad', 'Subway Club Salad',\n",
              "       'Subway Melt® Salad', 'Sweet Onion Chicken Teriyaki Salad',\n",
              "       'Tuna Salad', 'Turkey Breast & Ham Salad', 'Turkey Breast Salad',\n",
              "       'Veggie Delite Salad', 'Bean Burrito',\n",
              "       'Cheesy Bean and Rice Burrito', 'Chili Cheese Burrito',\n",
              "       'Shredded Chicken Burrito', 'Chicken Soft Taco',\n",
              "       'Cool Ranch® Doritos® Double Decker® Taco',\n",
              "       'Cool Ranch® Doritos® Locos Taco',\n",
              "       'Cool Ranch® Doritos® Locos Taco Supreme', 'Crunchy Taco',\n",
              "       'Crunchy Taco Supreme®', 'Double Decker® Taco',\n",
              "       'DOUBLE DECKER® Taco Supreme®', 'Spicy Sweet Double Stacked Taco',\n",
              "       'Cool Ranch Habanero Double Stacked Taco',\n",
              "       'Nacho Crunch Double Stacked Taco',\n",
              "       'Fiery Doritos® Double Decker® Taco', 'Fiery Doritos® Locos Taco',\n",
              "       'Fiery Doritos® Locos Taco Supreme', 'Grilled Steak Soft Taco',\n",
              "       'Nacho Cheese Doritos® Double Decker® Taco',\n",
              "       'Nacho Cheese Doritos® Locos Tacos',\n",
              "       'Nacho Cheese Doritos® Locos Tacos Supreme',\n",
              "       'Soft Taco Supreme® – Beef', 'Soft Taco-Beef',\n",
              "       'Spicy Potato Soft Taco', 'Chalupa Supreme® - Chicken',\n",
              "       'Chalupa Supreme® - Steak', 'Chalupa Supreme®–Beef',\n",
              "       'Fresco Bean Burrito', 'Fresco Chicken Soft Taco',\n",
              "       'Fresco Crunchy Taco', 'Fresco Grilled Steak Soft Taco',\n",
              "       'Fresco Soft Taco', 'Cheesy Gordita Crunch',\n",
              "       'Doritos® Cheesy Gordita Crunch - Cool Ranch',\n",
              "       'Doritos® Cheesy Gordita Crunch - Fiery',\n",
              "       'Doritos® Cheesy Gordita Crunch - Nacho Cheese',\n",
              "       'Gordita Supreme® – Beef', 'Gordita Supreme® - Chicken',\n",
              "       'Gordita Supreme® - Steak', 'Nachos Supreme',\n",
              "       'Triple Layer Nachos', 'Triple Melt Nachos',\n",
              "       'Beefy Cheddar Crunchwrap Slider', 'Beefy Mini Quesadilla',\n",
              "       'Beefy Nacho Griller', 'BLT Crunchwrap Slider', 'Cheese Roll-Up',\n",
              "       'Chipotle Crispy Chicken Griller', 'Double Tostada',\n",
              "       'Mexican Pizza', 'MexiMelt®', 'Steak Quesalupa',\n",
              "       'Chicken Quesalupa', 'Beef Quesalupa',\n",
              "       'Shredded Chicken Mini Quesadilla',\n",
              "       'Spicy Chicken Crunchwrap Slider', 'Spicy Tostada'], dtype=object)"
            ]
          },
          "metadata": {},
          "execution_count": 81
        }
      ],
      "source": [
        "label_0['item'].unique()"
      ]
    },
    {
      "cell_type": "markdown",
      "id": "9a78713e",
      "metadata": {
        "papermill": {
          "duration": 0.02377,
          "end_time": "2023-05-14T11:40:03.919990",
          "exception": false,
          "start_time": "2023-05-14T11:40:03.896220",
          "status": "completed"
        },
        "tags": [],
        "id": "9a78713e"
      },
      "source": [
        "## Makanan tidak sehat dari fastfood"
      ]
    },
    {
      "cell_type": "code",
      "execution_count": null,
      "id": "4c10e105",
      "metadata": {
        "execution": {
          "iopub.execute_input": "2023-05-14T11:40:03.970635Z",
          "iopub.status.busy": "2023-05-14T11:40:03.969743Z",
          "iopub.status.idle": "2023-05-14T11:40:03.977483Z",
          "shell.execute_reply": "2023-05-14T11:40:03.976508Z"
        },
        "papermill": {
          "duration": 0.036015,
          "end_time": "2023-05-14T11:40:03.979945",
          "exception": false,
          "start_time": "2023-05-14T11:40:03.943930",
          "status": "completed"
        },
        "tags": [],
        "colab": {
          "base_uri": "https://localhost:8080/"
        },
        "id": "4c10e105",
        "outputId": "6f54825e-86ff-4f6d-b6ee-deeb56c5182c"
      },
      "outputs": [
        {
          "output_type": "execute_result",
          "data": {
            "text/plain": [
              "array(['10 piece Buttermilk Crispy Chicken Tenders',\n",
              "       '12 piece Buttermilk Crispy Chicken Tenders',\n",
              "       '20 piece Buttermilk Crispy Chicken Tenders',\n",
              "       '40 piece Chicken McNuggets',\n",
              "       \"10 piece Sweet N' Spicy Honey BBQ Glazed Tenders\",\n",
              "       '30 piece Chicken Nuggets',\n",
              "       'Buffalo Dunked Ultimate Chicken Sandwich',\n",
              "       'Half Pound French Dip & Swiss', 'Triple Decker Sandwich',\n",
              "       '4 Piece Chicken Strip Basket w/ Country Gravy',\n",
              "       '6 Piece Chicken Strip Basket w/ Country Gravy',\n",
              "       'Footlong Big Hot Pastrami',\n",
              "       'Footlong Carved Turkey & Bacon w/ Cheese',\n",
              "       'Footlong Corned Beef Reuben', 'Footlong Italian Hero',\n",
              "       'Footlong Spicy Italian',\n",
              "       'Footlong Turkey Italiano Melt (with Provolone)',\n",
              "       'Turkey, Bacon & Guacamole Wrap'], dtype=object)"
            ]
          },
          "metadata": {},
          "execution_count": 82
        }
      ],
      "source": [
        "label_3['item'].unique()"
      ]
    },
    {
      "cell_type": "markdown",
      "id": "4b667e8f",
      "metadata": {
        "papermill": {
          "duration": 0.024261,
          "end_time": "2023-05-14T11:40:04.028738",
          "exception": false,
          "start_time": "2023-05-14T11:40:04.004477",
          "status": "completed"
        },
        "tags": [],
        "id": "4b667e8f"
      },
      "source": [
        "## Makanan sedang dari fastfood"
      ]
    },
    {
      "cell_type": "code",
      "execution_count": null,
      "id": "8ff9e59b",
      "metadata": {
        "execution": {
          "iopub.execute_input": "2023-05-14T11:40:04.079189Z",
          "iopub.status.busy": "2023-05-14T11:40:04.078758Z",
          "iopub.status.idle": "2023-05-14T11:40:04.087035Z",
          "shell.execute_reply": "2023-05-14T11:40:04.085884Z"
        },
        "papermill": {
          "duration": 0.036483,
          "end_time": "2023-05-14T11:40:04.089311",
          "exception": false,
          "start_time": "2023-05-14T11:40:04.052828",
          "status": "completed"
        },
        "tags": [],
        "colab": {
          "base_uri": "https://localhost:8080/"
        },
        "id": "8ff9e59b",
        "outputId": "3be8a0b2-217b-41d4-cd05-71426d9dad10"
      },
      "outputs": [
        {
          "output_type": "execute_result",
          "data": {
            "text/plain": [
              "array(['Single Bacon Smokehouse Burger', 'Double Bacon Smokehouse Burger',\n",
              "       'Grilled Bacon Smokehouse Chicken Sandwich',\n",
              "       'Crispy Bacon Smokehouse Chicken Sandwich',\n",
              "       'Grilled Maple Bacon Dijon Chicken Sandwich',\n",
              "       'Crispy Maple Bacon Dijon Chicken Sandwich',\n",
              "       'Grilled Sweet BBQ Bacon Chicken Sandwich',\n",
              "       'Crispy Sweet BBQ Bacon Chicken Sandwich',\n",
              "       '6 piece Buttermilk Crispy Chicken Tenders',\n",
              "       '20 Piece Chicken McNuggets',\n",
              "       \"4 piece Sweet N' Spicy Honey BBQ Glazed Tenders\",\n",
              "       \"6 piece Sweet N' Spicy Honey BBQ Glazed Tenders\", 'Spicy Deluxe',\n",
              "       'Chicken Enchiladas Meal Kit', 'Chicken Parmesan Meal Kit',\n",
              "       'Super Sonic Bacon Double Cheeseburger (w/mayo)',\n",
              "       'Super Sonic Double Cheeseburger W/ Mustard',\n",
              "       'Super Sonic Double Cheeseburger W/ Ketchup',\n",
              "       'Super Sonic Double Cheeseburger W/ Mayo',\n",
              "       'Super Sonic Jalapeno Double Cheeseburger',\n",
              "       'Garlic Parmesan Dunked Ultimate Chicken Sandwich',\n",
              "       'Large Jumbo Popcorn Chicken',\n",
              "       '3 Piece Super Crunch Chicken Strip Dinner',\n",
              "       '4 Piece Super Crunch Chicken Strip Dinner',\n",
              "       '5 Piece Super Crunch Chicken Strip Dinner',\n",
              "       'Ultimate Chicken Club', 'All Beef Chicago Dog – 6\"',\n",
              "       'Footlong Quarter Pound Coney', \"Beef 'n Cheddar Mid\",\n",
              "       'Bourbon BBQ Chicken Sandwich', 'Bourbon BBQ Steak Sandwich',\n",
              "       'Buttermilk Buffalo Chicken Sandwich',\n",
              "       'Buttermilk Chicken Bacon & Swiss',\n",
              "       'Buttermilk Chicken Cordon Bleu Sandwich',\n",
              "       'Classic French Dip & Swiss/Au Jus', 'Fire-Roasted Philly Steak',\n",
              "       \"Half Pound Beef 'n Cheddar Sandwich\",\n",
              "       'Half Pound Roast Beef Sandwich', 'Loaded Italian Sandwich',\n",
              "       'Reuben Sandwich', 'Roast Turkey & Swiss Sandwich',\n",
              "       'Roast Turkey, Ranch & Bacon Sandwich',\n",
              "       'Roast Turkey, Ranch & Bacon Wrap',\n",
              "       'Smoke Mountain w/ Beef Short Rib', 'Three Cheese Steak Sandwich',\n",
              "       'Turkey Avocado Club', 'Ultimate BLT', 'American Brewhouse King',\n",
              "       'Bacon King', 'Bacon King Jr', 'BBQ Bacon King',\n",
              "       'Double Quarter Pound King', 'Farmhouse King',\n",
              "       'Jalapeno King Sandwich', 'Rodeo King', 'Sourdough King Double',\n",
              "       'Steakhouse King',\n",
              "       'Bacon Cheddar Ranch Chicken Salad w/ crispy Chicken & Dressing',\n",
              "       'Chicken BLT Salad w/ Crispy Chicken',\n",
              "       'Chicken Caesar Salad w/ Crispy Chicken',\n",
              "       'Bacon Cheddar Ranch Crispy Chicken Sandwich',\n",
              "       'Chicken Cordon Bleu Sandwich', '20 Piece Chicken Nuggets',\n",
              "       'Crispy Buffalo Chicken Melt', 'Sourdough Chicken Club',\n",
              "       'Spicy Crispy Jalapeno Chicken Sandwich',\n",
              "       '1/2 lb. FlameThrower® GrillBurger', 'Large Cheese Curds',\n",
              "       'Steak Finger Basket', 'Footlong Big Philly Cheesesteak',\n",
              "       'Footlong Black Forest Ham', 'Footlong Carved Turkey',\n",
              "       'Footlong Chicken & Bacon Ranch Melt',\n",
              "       'Footlong Chicken Pizziola Melt', 'Footlong Cold Cut Combo',\n",
              "       '6\" Corned Beef Reuben', 'Footlong Italian B.M.T.',\n",
              "       'Footlong Meatball Marinara', 'Footlong Steak and Cheese',\n",
              "       'Footlong Subway Club', 'Footlong Sweet Onion Chicken Teriyaki',\n",
              "       'Footlong Turkey & Bacon Avocado', 'Footlong Veggie Patty',\n",
              "       'Chipotle Southwest Steak & Cheese Wrap',\n",
              "       'Rotisserie-Style Chicken Caesar Wrap',\n",
              "       'Cantina Power Burrito - Chicken', 'Cantina Power Burrito - Steak',\n",
              "       'Cantina Power Burrito - Veggie', 'Smothered Burrito - Beef',\n",
              "       'Smothered Burrito - Shredded Chicken',\n",
              "       'Smothered Burrito - Steak', 'Chicken Spicy Cheesy Core Burrito',\n",
              "       'Steak Spicy Cheesy Core Burrito',\n",
              "       'Beef Spicy Cheesy Core Burrito',\n",
              "       'XXL Grilled Stuft Burrito - Beef',\n",
              "       'XXL Grilled Stuft Burrito - Chicken',\n",
              "       'XXL Grilled Stuft Burrito - Steak',\n",
              "       'Spicy Triple Double Crunchwrap'], dtype=object)"
            ]
          },
          "metadata": {},
          "execution_count": 83
        }
      ],
      "source": [
        "label_1['item'].unique()"
      ]
    },
    {
      "cell_type": "code",
      "execution_count": null,
      "id": "40be14bb",
      "metadata": {
        "execution": {
          "iopub.execute_input": "2023-05-14T11:40:04.140492Z",
          "iopub.status.busy": "2023-05-14T11:40:04.140008Z",
          "iopub.status.idle": "2023-05-14T11:40:04.148907Z",
          "shell.execute_reply": "2023-05-14T11:40:04.147734Z"
        },
        "papermill": {
          "duration": 0.037495,
          "end_time": "2023-05-14T11:40:04.151238",
          "exception": false,
          "start_time": "2023-05-14T11:40:04.113743",
          "status": "completed"
        },
        "tags": [],
        "colab": {
          "base_uri": "https://localhost:8080/"
        },
        "id": "40be14bb",
        "outputId": "b2d5a5a5-191b-4776-c40e-afe0c8e7f839"
      },
      "outputs": [
        {
          "output_type": "execute_result",
          "data": {
            "text/plain": [
              "array(['Artisan Grilled Chicken Sandwich', 'Big Mac',\n",
              "       'Classic Chicken Sandwich', 'Double Cheeseburger',\n",
              "       'Double Quarter Pounder® with Cheese',\n",
              "       'Grilled Garlic White Cheddar Chicken Sandwich',\n",
              "       'Crispy Garlic White Cheddar Chicken Sandwich',\n",
              "       'Maple Bacon Dijon 1/4 lb Burger', 'Pico Guacamole 1/4 lb Burger',\n",
              "       'Grilled Pico Guacamole Chicken Sandwich',\n",
              "       'Crispy Pico Guacamole Chicken Sandwich',\n",
              "       'Premium Buttermilk Crispy Chicken Deluxe Sandwich',\n",
              "       'Premium Crispy Chicken Deluxe Sandwich',\n",
              "       'Quarter Pounder® with Cheese', 'Signature Sriracha Burger',\n",
              "       'Grilled Signature Sriracha Chicken Sandwich',\n",
              "       'Crispy Signature Sriracha Chicken Sandwich',\n",
              "       'Sweet BBQ Bacon 1/4 lb Burger',\n",
              "       '4 piece Buttermilk Crispy Chicken Tenders',\n",
              "       'Premium Asian Salad w/ Crispy Chicken',\n",
              "       'Premium Bacon Ranch Salad w/ Grilled Chicken',\n",
              "       'Premium Bacon Ranch Salad w/ Crispy Chicken',\n",
              "       'Premium Southwest Salad w/ Grilled Chicken',\n",
              "       'Premium Southwest Salad w/ Crispy Chicken',\n",
              "       'Chargrilled Chicken Club Sandwich', '4 piece Chick-n-Strips',\n",
              "       'Chicken Deluxe', '12 piece Chicken Nuggets',\n",
              "       'Chicken Salad Sandwich', 'Chicken Sandwich',\n",
              "       'Spicy Grilled Chicken Sub Sandwich',\n",
              "       'Regular Grilled Chicken Sub Sandwich',\n",
              "       'Smokehouse BBQ Bacon Sandwich', 'Spicy Chicken Sandwich',\n",
              "       'Hatch Green Chile Cheeseburger', 'Jalapeno Burger',\n",
              "       'Jr. Double Cheeseburger', 'Sonic Bacon Cheeseburger (w/mayo)',\n",
              "       'Sonic Cheeseburger W/ Mustard', 'Sonic Cheeseburger W/ Ketchup',\n",
              "       'Sonic Cheeseburger W/ Mayonnaise', 'Veggie Burger W/ Ketchup',\n",
              "       'Veggie Burger With Mustard', 'Veggie Burger W/ Mustard',\n",
              "       'Grilled Asiago Caesar Chicken Club Sandwich',\n",
              "       'Crispy Asiago Caesar Chicken Club Sandwich',\n",
              "       'Crispy Chicken Sandwich', '5 Piece Crispy Chicken Tender Dinner',\n",
              "       'Deluxe Ultimate Chicken Sandwich', 'Small Jumbo Popcorn Chicken',\n",
              "       'Large Spicy Jumbo Popcorn Chicken',\n",
              "       '5 Piece Super Crunch Chicken Strips',\n",
              "       'Traditional Ultimate Chicken Sandwich',\n",
              "       'All Beef All-american Style Dog – 6\"',\n",
              "       'All Beef Chili Cheese Coney – 6\"', 'All Beef New York Dog – 6\"',\n",
              "       'Cheesy Bacon Pretzel Dog - 6 In.', 'Arby-Q Sandwich',\n",
              "       \"Beef 'n Cheddar Classic\", 'Bourbon BBQ Brisket Sandwich',\n",
              "       'Buttermilk Crispy Chicken Sandwich', 'Double Roast Beef',\n",
              "       'Grand Turkey Club', 'Greek Gyro', 'Ham & Swiss Melt',\n",
              "       'Pecan Chicken Salad Flatbread', 'Pecan Chicken Salad Sandwich',\n",
              "       '5 piece Prime-Cut Chicken Tenders', 'Roast Beef Gyro',\n",
              "       'Roast Turkey & Swiss Wrap', 'Smokehouse Beef Short Rib Sandwich',\n",
              "       'Smokehouse Brisket', 'Super Roast Beef', 'Turkey Gyro',\n",
              "       'Crispy Chicken Farmhouse Salad', 'Super Greek Salad',\n",
              "       'Bacon & Swiss Sourdough King', 'Double Bacon Cheeseburger',\n",
              "       'Extra Long Cheeseburger', 'Homestyle Cheeseburger',\n",
              "       'Mushroom & Swiss King', 'Sourdough King Single',\n",
              "       'Bacon & Cheese Whopper', 'DOUBLE WHOPPER w/o Cheese',\n",
              "       'DOUBLE WHOPPER w/ Cheese', 'WHOPPER w/o Cheese',\n",
              "       'WHOPPER w/ Cheese',\n",
              "       'Bacon Cheddar Ranch Chicken Salad w/ grilled Chicken & Dressing',\n",
              "       'Chicken BLT Salad w/ Grilled Chicken',\n",
              "       'Chicken Caesar Salad w/ Grilled Chicken',\n",
              "       'Chicken, Apple & Cranberry Salad w/ Grilled Chicken',\n",
              "       'Chicken, Apple & Cranberry Salad w/ Crispy Chicken',\n",
              "       'Garden Grilled Chicken Salad w/ Crispy Chicken, no dressing',\n",
              "       'Big Fish Sandwich', 'BK VEGGIE Burger', 'Chicken Burger',\n",
              "       'Chicken Parmesan Sandwich', 'Original Chicken Sandwich',\n",
              "       'Pretzel Chicken Fries', 'Spicy Chicken Nuggets',\n",
              "       'Spicy Crispy Chicken Sandwich', '1/2 lb. GrillBurger with Cheese',\n",
              "       '1/4 lb. Bacon Cheese GrillBurger',\n",
              "       '1/4 lb. GrillBurger with Cheese', 'Original Double Cheeseburger',\n",
              "       'Bacon Cheese Dog', 'Cheese Dog', 'Chili Dog',\n",
              "       'Chili Cheese Mega Dog', 'Crispy Fish Sandwich',\n",
              "       'Deluxe Double Cheeseburger', 'DQ Ultimate® Burger',\n",
              "       'Pork Tenderloin Sandwich', 'Chicken Bacon Ranch Sandwich',\n",
              "       'Chicken Mozzarella Sandwich', 'Crispy Chicken BLT Salad',\n",
              "       'Grilled Chicken BLT Salad', 'Grilled Chicken Sandwich',\n",
              "       'Turkey BLT Sandwich', 'Footlong B.L.T.',\n",
              "       'Footlong BBQ Rib Sandwich', '6\" Big Hot Pastrami',\n",
              "       '6\" Big Philly Cheesesteak', '6\" Carved Turkey & Bacon w/ Cheese',\n",
              "       '6\" Chicken & Bacon Ranch Melt', '6\" Chicken Pizziola Melt',\n",
              "       '6\" Cold Cut Combo', '6\" Italian B.M.T.', '6\" Italian Hero',\n",
              "       '6\" Meatball Marinara', 'Footlong Oven Roasted Chicken',\n",
              "       'Footlong Roast Beef', 'Footlong Rotisserie Style Chicken',\n",
              "       '6\" Spicy Italian', '6\" Steak and Cheese',\n",
              "       '6\" Subway Melt (includes cheese)',\n",
              "       'Footlong Subway Melt (includes cheese)',\n",
              "       'Footlong Subway Seafood Sensation', 'Footlong Tuna',\n",
              "       'Footlong Turkey Breast', 'Footlong Turkey Breast & Ham',\n",
              "       '6\" Turkey Italiano Melt (with Provolone)',\n",
              "       'Autumn Carved Turkey Salad', 'Big Hot Pastrami Melt Salad',\n",
              "       'Big Philly Cheesesteak Salad',\n",
              "       'Buffalo Chicken Salad (with Ranch dressing)',\n",
              "       'Carved Turkey & Bacon w/ Cheese Salad',\n",
              "       'Chicken & Bacon Ranch Melt Salad (includes Ranch dressing)',\n",
              "       'Italian B.M.T.® Salad', 'Italian Hero Salad',\n",
              "       'Spicy Italian Salad', 'Cheese & Veggies Pizza', 'Cheese Pizza',\n",
              "       'Pepperoni Pizza', 'Sausage Pizza',\n",
              "       '1/2 lb.* Cheesy Potato Burrito', '1/2 lb.* Combo Burrito',\n",
              "       '7-Layer Burrito', 'Beefy 5-Layer Burrito',\n",
              "       'Beefy Fritos® Burrito', 'Black Bean Burrito',\n",
              "       'Burrito Supreme® – Beef', 'Burrito Supreme® - Chicken',\n",
              "       'Burrito Supreme® - Steak', 'Chicken Crunchy Cheesy Core Burrito',\n",
              "       'Steak Crunchy Cheesy Core Burrito',\n",
              "       'Beef Crunchy Cheesy Core Burrito', 'Loaded Taco Burrito',\n",
              "       'Chicken Quesarito', 'Steak Quesarito', 'Beef Quesarito',\n",
              "       'Triple Melt Burrito', 'Double Chalupa',\n",
              "       'Wild Naked Chicken Chalupa', 'Mild Naked Chicken Chalupa',\n",
              "       'Spicy Double Chalupa', 'Fresco Burrito Supreme® – Chicken',\n",
              "       'Fresco Burrito Supreme® – Steak', 'Double Cheesy Gordita Crunch',\n",
              "       'Nacho Fries Bellgrande', 'Nachos BellGrande®',\n",
              "       'Cantina Power Bowl - Chicken', 'Cantina Power Bowl - Steak',\n",
              "       'Cantina Power Bowl - Veggie', 'Cheese Quesadilla',\n",
              "       'Chicken Quesadilla', 'Chickstar', 'Crispy Chicken Quesadilla',\n",
              "       'Crunchwrap Supreme®', 'Express Taco Salad w/ Chips',\n",
              "       'Loaded Potato Griller', 'Stacker', 'Steak Quesadilla',\n",
              "       'Original Triple Double Crunchwrap', 'Fiesta Taco Salad-Beef',\n",
              "       'Fiesta Taco Salad-Chicken', 'Fiesta Taco Salad-Steak'],\n",
              "      dtype=object)"
            ]
          },
          "metadata": {},
          "execution_count": 84
        }
      ],
      "source": [
        "label_2['item'].unique()"
      ]
    }
  ],
  "metadata": {
    "kernelspec": {
      "display_name": "Python 3",
      "language": "python",
      "name": "python3"
    },
    "language_info": {
      "codemirror_mode": {
        "name": "ipython",
        "version": 3
      },
      "file_extension": ".py",
      "mimetype": "text/x-python",
      "name": "python",
      "nbconvert_exporter": "python",
      "pygments_lexer": "ipython3",
      "version": "3.7.12"
    },
    "papermill": {
      "default_parameters": {},
      "duration": 22.64552,
      "end_time": "2023-05-14T11:40:05.146058",
      "environment_variables": {},
      "exception": null,
      "input_path": "__notebook__.ipynb",
      "output_path": "__notebook__.ipynb",
      "parameters": {},
      "start_time": "2023-05-14T11:39:42.500538",
      "version": "2.4.0"
    },
    "colab": {
      "provenance": [],
      "include_colab_link": true
    }
  },
  "nbformat": 4,
  "nbformat_minor": 5
}