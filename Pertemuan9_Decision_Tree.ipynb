{
  "nbformat": 4,
  "nbformat_minor": 0,
  "metadata": {
    "colab": {
      "provenance": [],
      "mount_file_id": "1_jdB-8YhWbM3HWRdOmEA5-HAwjHA7hNl",
      "authorship_tag": "ABX9TyOq8S8I4piIzTj3ptTiTqFZ",
      "include_colab_link": true
    },
    "kernelspec": {
      "name": "python3",
      "display_name": "Python 3"
    },
    "language_info": {
      "name": "python"
    }
  },
  "cells": [
    {
      "cell_type": "markdown",
      "metadata": {
        "id": "view-in-github",
        "colab_type": "text"
      },
      "source": [
        "<a href=\"https://colab.research.google.com/github/deyaaa13/DataMining/blob/main/Pertemuan9_Decision_Tree.ipynb\" target=\"_parent\"><img src=\"https://colab.research.google.com/assets/colab-badge.svg\" alt=\"Open In Colab\"/></a>"
      ]
    },
    {
      "cell_type": "markdown",
      "source": [
        "# **Decision Tree C4.5 Classification**\n",
        "\n",
        "\n"
      ],
      "metadata": {
        "id": "lq3z4nkwAJ9_"
      }
    },
    {
      "cell_type": "markdown",
      "source": [
        "# **Konsep Algoritma**\n",
        "\n",
        "1.   Memilih variabel sebagai akar\n",
        "2.   Buat cabang untuk masing-masing nilai\n",
        "3.   Bagi kasus dalam cabang\n",
        "4.   Ulangi proses untuk masing-masing cabang sampai semua kasus pada cabang memiliki kelas sama\n",
        "\n"
      ],
      "metadata": {
        "id": "C0okcxBQAUD9"
      }
    },
    {
      "cell_type": "markdown",
      "source": [
        "# IMPLEMENTASI 1"
      ],
      "metadata": {
        "id": "oG4oeplQA301"
      }
    },
    {
      "cell_type": "markdown",
      "source": [
        "# 1. Import Library"
      ],
      "metadata": {
        "id": "BVrIjK0NA7rc"
      }
    },
    {
      "cell_type": "code",
      "source": [
        "#importing the libraries\n",
        "import numpy as np\n",
        "import pandas as pd\n",
        "\n",
        "!pip install chefboost\n",
        "from chefboost import Chefboost as chef"
      ],
      "metadata": {
        "colab": {
          "base_uri": "https://localhost:8080/"
        },
        "id": "LD9RNKHhBDTn",
        "outputId": "db212095-373c-4d32-9a6e-93c53789f6a3"
      },
      "execution_count": null,
      "outputs": [
        {
          "output_type": "stream",
          "name": "stdout",
          "text": [
            "Looking in indexes: https://pypi.org/simple, https://us-python.pkg.dev/colab-wheels/public/simple/\n",
            "Requirement already satisfied: chefboost in /usr/local/lib/python3.8/dist-packages (0.0.17)\n",
            "Requirement already satisfied: numpy>=1.14.0 in /usr/local/lib/python3.8/dist-packages (from chefboost) (1.21.6)\n",
            "Requirement already satisfied: psutil>=5.4.3 in /usr/local/lib/python3.8/dist-packages (from chefboost) (5.4.8)\n",
            "Requirement already satisfied: tqdm>=4.30.0 in /usr/local/lib/python3.8/dist-packages (from chefboost) (4.64.1)\n",
            "Requirement already satisfied: pandas>=0.22.0 in /usr/local/lib/python3.8/dist-packages (from chefboost) (1.3.5)\n",
            "Requirement already satisfied: python-dateutil>=2.7.3 in /usr/local/lib/python3.8/dist-packages (from pandas>=0.22.0->chefboost) (2.8.2)\n",
            "Requirement already satisfied: pytz>=2017.3 in /usr/local/lib/python3.8/dist-packages (from pandas>=0.22.0->chefboost) (2022.6)\n",
            "Requirement already satisfied: six>=1.5 in /usr/local/lib/python3.8/dist-packages (from python-dateutil>=2.7.3->pandas>=0.22.0->chefboost) (1.15.0)\n"
          ]
        }
      ]
    },
    {
      "cell_type": "markdown",
      "source": [
        "# 2. Load Dataset"
      ],
      "metadata": {
        "id": "E0nVmjo0Bd9V"
      }
    },
    {
      "cell_type": "code",
      "source": [
        "df = pd.read_csv('/content/PlayTennis.csv')"
      ],
      "metadata": {
        "id": "ByVpCcsuBWTG"
      },
      "execution_count": null,
      "outputs": []
    },
    {
      "cell_type": "code",
      "source": [
        "df.head()"
      ],
      "metadata": {
        "colab": {
          "base_uri": "https://localhost:8080/",
          "height": 206
        },
        "id": "QUNUUqzZB4iE",
        "outputId": "eaa6ddc1-9162-4dae-bd43-73ab2876c6f5"
      },
      "execution_count": null,
      "outputs": [
        {
          "output_type": "execute_result",
          "data": {
            "text/plain": [
              "    Outlook Temperature Humidity    Wind Play Tennis\n",
              "0     Sunny         Hot     High    Weak          No\n",
              "1     Sunny         Hot     High  Strong          No\n",
              "2  Overcast         Hot     High    Weak         Yes\n",
              "3      Rain        Mild     High    Weak         Yes\n",
              "4      Rain        Cool   Normal    Weak         Yes"
            ],
            "text/html": [
              "\n",
              "  <div id=\"df-641624ce-502f-4342-9a67-1407dcb44145\">\n",
              "    <div class=\"colab-df-container\">\n",
              "      <div>\n",
              "<style scoped>\n",
              "    .dataframe tbody tr th:only-of-type {\n",
              "        vertical-align: middle;\n",
              "    }\n",
              "\n",
              "    .dataframe tbody tr th {\n",
              "        vertical-align: top;\n",
              "    }\n",
              "\n",
              "    .dataframe thead th {\n",
              "        text-align: right;\n",
              "    }\n",
              "</style>\n",
              "<table border=\"1\" class=\"dataframe\">\n",
              "  <thead>\n",
              "    <tr style=\"text-align: right;\">\n",
              "      <th></th>\n",
              "      <th>Outlook</th>\n",
              "      <th>Temperature</th>\n",
              "      <th>Humidity</th>\n",
              "      <th>Wind</th>\n",
              "      <th>Play Tennis</th>\n",
              "    </tr>\n",
              "  </thead>\n",
              "  <tbody>\n",
              "    <tr>\n",
              "      <th>0</th>\n",
              "      <td>Sunny</td>\n",
              "      <td>Hot</td>\n",
              "      <td>High</td>\n",
              "      <td>Weak</td>\n",
              "      <td>No</td>\n",
              "    </tr>\n",
              "    <tr>\n",
              "      <th>1</th>\n",
              "      <td>Sunny</td>\n",
              "      <td>Hot</td>\n",
              "      <td>High</td>\n",
              "      <td>Strong</td>\n",
              "      <td>No</td>\n",
              "    </tr>\n",
              "    <tr>\n",
              "      <th>2</th>\n",
              "      <td>Overcast</td>\n",
              "      <td>Hot</td>\n",
              "      <td>High</td>\n",
              "      <td>Weak</td>\n",
              "      <td>Yes</td>\n",
              "    </tr>\n",
              "    <tr>\n",
              "      <th>3</th>\n",
              "      <td>Rain</td>\n",
              "      <td>Mild</td>\n",
              "      <td>High</td>\n",
              "      <td>Weak</td>\n",
              "      <td>Yes</td>\n",
              "    </tr>\n",
              "    <tr>\n",
              "      <th>4</th>\n",
              "      <td>Rain</td>\n",
              "      <td>Cool</td>\n",
              "      <td>Normal</td>\n",
              "      <td>Weak</td>\n",
              "      <td>Yes</td>\n",
              "    </tr>\n",
              "  </tbody>\n",
              "</table>\n",
              "</div>\n",
              "      <button class=\"colab-df-convert\" onclick=\"convertToInteractive('df-641624ce-502f-4342-9a67-1407dcb44145')\"\n",
              "              title=\"Convert this dataframe to an interactive table.\"\n",
              "              style=\"display:none;\">\n",
              "        \n",
              "  <svg xmlns=\"http://www.w3.org/2000/svg\" height=\"24px\"viewBox=\"0 0 24 24\"\n",
              "       width=\"24px\">\n",
              "    <path d=\"M0 0h24v24H0V0z\" fill=\"none\"/>\n",
              "    <path d=\"M18.56 5.44l.94 2.06.94-2.06 2.06-.94-2.06-.94-.94-2.06-.94 2.06-2.06.94zm-11 1L8.5 8.5l.94-2.06 2.06-.94-2.06-.94L8.5 2.5l-.94 2.06-2.06.94zm10 10l.94 2.06.94-2.06 2.06-.94-2.06-.94-.94-2.06-.94 2.06-2.06.94z\"/><path d=\"M17.41 7.96l-1.37-1.37c-.4-.4-.92-.59-1.43-.59-.52 0-1.04.2-1.43.59L10.3 9.45l-7.72 7.72c-.78.78-.78 2.05 0 2.83L4 21.41c.39.39.9.59 1.41.59.51 0 1.02-.2 1.41-.59l7.78-7.78 2.81-2.81c.8-.78.8-2.07 0-2.86zM5.41 20L4 18.59l7.72-7.72 1.47 1.35L5.41 20z\"/>\n",
              "  </svg>\n",
              "      </button>\n",
              "      \n",
              "  <style>\n",
              "    .colab-df-container {\n",
              "      display:flex;\n",
              "      flex-wrap:wrap;\n",
              "      gap: 12px;\n",
              "    }\n",
              "\n",
              "    .colab-df-convert {\n",
              "      background-color: #E8F0FE;\n",
              "      border: none;\n",
              "      border-radius: 50%;\n",
              "      cursor: pointer;\n",
              "      display: none;\n",
              "      fill: #1967D2;\n",
              "      height: 32px;\n",
              "      padding: 0 0 0 0;\n",
              "      width: 32px;\n",
              "    }\n",
              "\n",
              "    .colab-df-convert:hover {\n",
              "      background-color: #E2EBFA;\n",
              "      box-shadow: 0px 1px 2px rgba(60, 64, 67, 0.3), 0px 1px 3px 1px rgba(60, 64, 67, 0.15);\n",
              "      fill: #174EA6;\n",
              "    }\n",
              "\n",
              "    [theme=dark] .colab-df-convert {\n",
              "      background-color: #3B4455;\n",
              "      fill: #D2E3FC;\n",
              "    }\n",
              "\n",
              "    [theme=dark] .colab-df-convert:hover {\n",
              "      background-color: #434B5C;\n",
              "      box-shadow: 0px 1px 3px 1px rgba(0, 0, 0, 0.15);\n",
              "      filter: drop-shadow(0px 1px 2px rgba(0, 0, 0, 0.3));\n",
              "      fill: #FFFFFF;\n",
              "    }\n",
              "  </style>\n",
              "\n",
              "      <script>\n",
              "        const buttonEl =\n",
              "          document.querySelector('#df-641624ce-502f-4342-9a67-1407dcb44145 button.colab-df-convert');\n",
              "        buttonEl.style.display =\n",
              "          google.colab.kernel.accessAllowed ? 'block' : 'none';\n",
              "\n",
              "        async function convertToInteractive(key) {\n",
              "          const element = document.querySelector('#df-641624ce-502f-4342-9a67-1407dcb44145');\n",
              "          const dataTable =\n",
              "            await google.colab.kernel.invokeFunction('convertToInteractive',\n",
              "                                                     [key], {});\n",
              "          if (!dataTable) return;\n",
              "\n",
              "          const docLinkHtml = 'Like what you see? Visit the ' +\n",
              "            '<a target=\"_blank\" href=https://colab.research.google.com/notebooks/data_table.ipynb>data table notebook</a>'\n",
              "            + ' to learn more about interactive tables.';\n",
              "          element.innerHTML = '';\n",
              "          dataTable['output_type'] = 'display_data';\n",
              "          await google.colab.output.renderOutput(dataTable, element);\n",
              "          const docLink = document.createElement('div');\n",
              "          docLink.innerHTML = docLinkHtml;\n",
              "          element.appendChild(docLink);\n",
              "        }\n",
              "      </script>\n",
              "    </div>\n",
              "  </div>\n",
              "  "
            ]
          },
          "metadata": {},
          "execution_count": 53
        }
      ]
    },
    {
      "cell_type": "code",
      "source": [
        "df.info()"
      ],
      "metadata": {
        "colab": {
          "base_uri": "https://localhost:8080/"
        },
        "id": "3QeSSaAHCeDl",
        "outputId": "e90c849d-aa75-4fa6-849a-9f2fbfc2cc89"
      },
      "execution_count": null,
      "outputs": [
        {
          "output_type": "stream",
          "name": "stdout",
          "text": [
            "<class 'pandas.core.frame.DataFrame'>\n",
            "RangeIndex: 14 entries, 0 to 13\n",
            "Data columns (total 5 columns):\n",
            " #   Column       Non-Null Count  Dtype \n",
            "---  ------       --------------  ----- \n",
            " 0   Outlook      14 non-null     object\n",
            " 1   Temperature  14 non-null     object\n",
            " 2   Humidity     14 non-null     object\n",
            " 3   Wind         14 non-null     object\n",
            " 4   Play Tennis  14 non-null     object\n",
            "dtypes: object(5)\n",
            "memory usage: 688.0+ bytes\n"
          ]
        }
      ]
    },
    {
      "cell_type": "code",
      "source": [
        "#show unique\n",
        "for (columName, columData) in df.iteritems():\n",
        "  print('Colum Name : ', columName)\n",
        "  print('Colum Unique :', set(columData.values), '\\n')"
      ],
      "metadata": {
        "colab": {
          "base_uri": "https://localhost:8080/"
        },
        "id": "ufKBss-wCgVE",
        "outputId": "45d8bcaf-1898-4ab3-b121-818a3c9c21bd"
      },
      "execution_count": null,
      "outputs": [
        {
          "output_type": "stream",
          "name": "stdout",
          "text": [
            "Colum Name :  Outlook\n",
            "Colum Unique : {'Rain', 'Overcast', 'Sunny'} \n",
            "\n",
            "Colum Name :  Temperature\n",
            "Colum Unique : {'Cool', 'Hot', 'Mild'} \n",
            "\n",
            "Colum Name :  Humidity\n",
            "Colum Unique : {'High', 'Normal'} \n",
            "\n",
            "Colum Name :  Wind\n",
            "Colum Unique : {'Strong', 'Weak'} \n",
            "\n",
            "Colum Name :  Play Tennis\n",
            "Colum Unique : {'No', 'Yes'} \n",
            "\n"
          ]
        }
      ]
    },
    {
      "cell_type": "code",
      "source": [
        "#tentukan config c4.5\n",
        "config = {'algorithm':'C4.5'}\n",
        "\n",
        "#training the C4.5 model on the Training set\n",
        "c45_model = chef.fit(df, config, target_label = 'Play Tennis') #datanya dijadikan satu"
      ],
      "metadata": {
        "colab": {
          "base_uri": "https://localhost:8080/"
        },
        "id": "pLlYRCTcC-cG",
        "outputId": "11e128b7-587e-462f-c31e-bdcd559064e3"
      },
      "execution_count": null,
      "outputs": [
        {
          "output_type": "stream",
          "name": "stdout",
          "text": [
            "[INFO]:  1 CPU cores will be allocated in parallel running\n",
            "C4.5  tree is going to be built...\n",
            "-------------------------\n",
            "finished in  1.4090735912322998  seconds\n",
            "-------------------------\n",
            "Evaluate  train set\n",
            "-------------------------\n",
            "Accuracy:  100.0 % on  14  instances\n",
            "Labels:  ['No' 'Yes']\n",
            "Confusion matrix:  [[5, 0], [0, 9]]\n",
            "Precision:  100.0 %, Recall:  100.0 %, F1:  100.0 %\n"
          ]
        }
      ]
    },
    {
      "cell_type": "markdown",
      "source": [
        "# 4. Show the result"
      ],
      "metadata": {
        "id": "XzohmmhlEYgm"
      }
    },
    {
      "cell_type": "code",
      "source": [
        "with open('/content/outputs/rules/rules.py', encoding='utf8') as f:\n",
        "  for line in f:\n",
        "    print(line.strip())"
      ],
      "metadata": {
        "colab": {
          "base_uri": "https://localhost:8080/"
        },
        "id": "C-LjV1U4Dn9c",
        "outputId": "c364a3ac-e49c-4dae-b19d-459717a331d8"
      },
      "execution_count": null,
      "outputs": [
        {
          "output_type": "stream",
          "name": "stdout",
          "text": [
            "def findDecision(obj): #obj[0]: Outlook, obj[1]: Temperature, obj[2]: Humidity, obj[3]: Wind\n",
            "# {\"feature\": \"Outlook\", \"instances\": 14, \"metric_value\": 0.9403, \"depth\": 1}\n",
            "if obj[0] == 'Sunny':\n",
            "# {\"feature\": \"Humidity\", \"instances\": 5, \"metric_value\": 0.971, \"depth\": 2}\n",
            "if obj[2] == 'High':\n",
            "return 'No'\n",
            "elif obj[2] == 'Normal':\n",
            "return 'Yes'\n",
            "else: return 'Yes'\n",
            "elif obj[0] == 'Rain':\n",
            "# {\"feature\": \"Wind\", \"instances\": 5, \"metric_value\": 0.971, \"depth\": 2}\n",
            "if obj[3] == 'Weak':\n",
            "return 'Yes'\n",
            "elif obj[3] == 'Strong':\n",
            "return 'No'\n",
            "else: return 'No'\n",
            "elif obj[0] == 'Overcast':\n",
            "return 'Yes'\n",
            "else: return 'Yes'\n"
          ]
        }
      ]
    },
    {
      "cell_type": "markdown",
      "source": [
        "# 5. Prediction"
      ],
      "metadata": {
        "id": "Wa6NFTmYEs-7"
      }
    },
    {
      "cell_type": "code",
      "source": [
        "#prediksi berdasarkan row\n",
        "print('Row :\\n', df.loc[2])\n",
        "print('\\nPrediction : ', chef.predict(c45_model, df.loc[2]))"
      ],
      "metadata": {
        "colab": {
          "base_uri": "https://localhost:8080/"
        },
        "id": "pCw_ywgjEw0d",
        "outputId": "f7a835df-9dc3-49c7-a778-f6a68b9ba0b2"
      },
      "execution_count": null,
      "outputs": [
        {
          "output_type": "stream",
          "name": "stdout",
          "text": [
            "Row :\n",
            " Outlook        Overcast\n",
            "Temperature         Hot\n",
            "Humidity           High\n",
            "Wind               Weak\n",
            "Play Tennis         Yes\n",
            "Name: 2, dtype: object\n",
            "\n",
            "Prediction :  Yes\n"
          ]
        }
      ]
    },
    {
      "cell_type": "code",
      "source": [
        "#predict dengan inputan, masukkan secara berurutan value untuk fitur Outlook, Temperature, Humidity, and Wind\n",
        "#pastikan inputan yang dimasukkan sesuai dengan salah satu unique value pada masing-masing fitur\n",
        "chef.predict(c45_model, param = ['Overcast', 'Hot', 'High', 'Weak'])"
      ],
      "metadata": {
        "colab": {
          "base_uri": "https://localhost:8080/",
          "height": 36
        },
        "id": "HUxDZvD_FaXc",
        "outputId": "4ba42519-dd5e-431a-f947-ec0c2d29b82e"
      },
      "execution_count": null,
      "outputs": [
        {
          "output_type": "execute_result",
          "data": {
            "text/plain": [
              "'Yes'"
            ],
            "application/vnd.google.colaboratory.intrinsic+json": {
              "type": "string"
            }
          },
          "metadata": {},
          "execution_count": 59
        }
      ]
    },
    {
      "cell_type": "code",
      "source": [
        "chef.predict(c45_model, param = ['Sunny', 'Hot', 'Normal', 'Strong'])"
      ],
      "metadata": {
        "colab": {
          "base_uri": "https://localhost:8080/",
          "height": 36
        },
        "id": "Q4clyPGiGHoa",
        "outputId": "64055aa6-316a-4213-8553-48cf9918ddcf"
      },
      "execution_count": null,
      "outputs": [
        {
          "output_type": "execute_result",
          "data": {
            "text/plain": [
              "'Yes'"
            ],
            "application/vnd.google.colaboratory.intrinsic+json": {
              "type": "string"
            }
          },
          "metadata": {},
          "execution_count": 60
        }
      ]
    },
    {
      "cell_type": "markdown",
      "source": [
        "# IMPLEMENTASI 2"
      ],
      "metadata": {
        "id": "O0JtwX88GtH7"
      }
    },
    {
      "cell_type": "markdown",
      "source": [
        "# 1. Import Library"
      ],
      "metadata": {
        "id": "EULJ98dEGyA7"
      }
    },
    {
      "cell_type": "markdown",
      "source": [
        "# 2. Load Dataset"
      ],
      "metadata": {
        "id": "Bx6wpTDrG0jj"
      }
    },
    {
      "cell_type": "code",
      "source": [
        "df_bank = pd.read_csv('/content/bank-full.csv')"
      ],
      "metadata": {
        "id": "n_32JUZVG96L"
      },
      "execution_count": null,
      "outputs": []
    },
    {
      "cell_type": "code",
      "source": [
        "df_bank.head()"
      ],
      "metadata": {
        "colab": {
          "base_uri": "https://localhost:8080/",
          "height": 206
        },
        "id": "5DjrQaJYHFUk",
        "outputId": "5d7bc106-845c-4145-fb1f-a016c9dd1aed"
      },
      "execution_count": null,
      "outputs": [
        {
          "output_type": "execute_result",
          "data": {
            "text/plain": [
              "   age           job  marital  education default  balance housing loan  \\\n",
              "0   58    management  married   tertiary      no     2143     yes   no   \n",
              "1   44    technician   single  secondary      no       29     yes   no   \n",
              "2   33  entrepreneur  married  secondary      no        2     yes  yes   \n",
              "3   47   blue-collar  married    unknown      no     1506     yes   no   \n",
              "4   33       unknown   single    unknown      no        1      no   no   \n",
              "\n",
              "   contact  day month  duration  campaign  pdays  previous poutcome Target  \n",
              "0  unknown    5   may       261         1     -1         0  unknown     no  \n",
              "1  unknown    5   may       151         1     -1         0  unknown     no  \n",
              "2  unknown    5   may        76         1     -1         0  unknown     no  \n",
              "3  unknown    5   may        92         1     -1         0  unknown     no  \n",
              "4  unknown    5   may       198         1     -1         0  unknown     no  "
            ],
            "text/html": [
              "\n",
              "  <div id=\"df-98f2be6c-2373-420b-836b-1bd87454d22e\">\n",
              "    <div class=\"colab-df-container\">\n",
              "      <div>\n",
              "<style scoped>\n",
              "    .dataframe tbody tr th:only-of-type {\n",
              "        vertical-align: middle;\n",
              "    }\n",
              "\n",
              "    .dataframe tbody tr th {\n",
              "        vertical-align: top;\n",
              "    }\n",
              "\n",
              "    .dataframe thead th {\n",
              "        text-align: right;\n",
              "    }\n",
              "</style>\n",
              "<table border=\"1\" class=\"dataframe\">\n",
              "  <thead>\n",
              "    <tr style=\"text-align: right;\">\n",
              "      <th></th>\n",
              "      <th>age</th>\n",
              "      <th>job</th>\n",
              "      <th>marital</th>\n",
              "      <th>education</th>\n",
              "      <th>default</th>\n",
              "      <th>balance</th>\n",
              "      <th>housing</th>\n",
              "      <th>loan</th>\n",
              "      <th>contact</th>\n",
              "      <th>day</th>\n",
              "      <th>month</th>\n",
              "      <th>duration</th>\n",
              "      <th>campaign</th>\n",
              "      <th>pdays</th>\n",
              "      <th>previous</th>\n",
              "      <th>poutcome</th>\n",
              "      <th>Target</th>\n",
              "    </tr>\n",
              "  </thead>\n",
              "  <tbody>\n",
              "    <tr>\n",
              "      <th>0</th>\n",
              "      <td>58</td>\n",
              "      <td>management</td>\n",
              "      <td>married</td>\n",
              "      <td>tertiary</td>\n",
              "      <td>no</td>\n",
              "      <td>2143</td>\n",
              "      <td>yes</td>\n",
              "      <td>no</td>\n",
              "      <td>unknown</td>\n",
              "      <td>5</td>\n",
              "      <td>may</td>\n",
              "      <td>261</td>\n",
              "      <td>1</td>\n",
              "      <td>-1</td>\n",
              "      <td>0</td>\n",
              "      <td>unknown</td>\n",
              "      <td>no</td>\n",
              "    </tr>\n",
              "    <tr>\n",
              "      <th>1</th>\n",
              "      <td>44</td>\n",
              "      <td>technician</td>\n",
              "      <td>single</td>\n",
              "      <td>secondary</td>\n",
              "      <td>no</td>\n",
              "      <td>29</td>\n",
              "      <td>yes</td>\n",
              "      <td>no</td>\n",
              "      <td>unknown</td>\n",
              "      <td>5</td>\n",
              "      <td>may</td>\n",
              "      <td>151</td>\n",
              "      <td>1</td>\n",
              "      <td>-1</td>\n",
              "      <td>0</td>\n",
              "      <td>unknown</td>\n",
              "      <td>no</td>\n",
              "    </tr>\n",
              "    <tr>\n",
              "      <th>2</th>\n",
              "      <td>33</td>\n",
              "      <td>entrepreneur</td>\n",
              "      <td>married</td>\n",
              "      <td>secondary</td>\n",
              "      <td>no</td>\n",
              "      <td>2</td>\n",
              "      <td>yes</td>\n",
              "      <td>yes</td>\n",
              "      <td>unknown</td>\n",
              "      <td>5</td>\n",
              "      <td>may</td>\n",
              "      <td>76</td>\n",
              "      <td>1</td>\n",
              "      <td>-1</td>\n",
              "      <td>0</td>\n",
              "      <td>unknown</td>\n",
              "      <td>no</td>\n",
              "    </tr>\n",
              "    <tr>\n",
              "      <th>3</th>\n",
              "      <td>47</td>\n",
              "      <td>blue-collar</td>\n",
              "      <td>married</td>\n",
              "      <td>unknown</td>\n",
              "      <td>no</td>\n",
              "      <td>1506</td>\n",
              "      <td>yes</td>\n",
              "      <td>no</td>\n",
              "      <td>unknown</td>\n",
              "      <td>5</td>\n",
              "      <td>may</td>\n",
              "      <td>92</td>\n",
              "      <td>1</td>\n",
              "      <td>-1</td>\n",
              "      <td>0</td>\n",
              "      <td>unknown</td>\n",
              "      <td>no</td>\n",
              "    </tr>\n",
              "    <tr>\n",
              "      <th>4</th>\n",
              "      <td>33</td>\n",
              "      <td>unknown</td>\n",
              "      <td>single</td>\n",
              "      <td>unknown</td>\n",
              "      <td>no</td>\n",
              "      <td>1</td>\n",
              "      <td>no</td>\n",
              "      <td>no</td>\n",
              "      <td>unknown</td>\n",
              "      <td>5</td>\n",
              "      <td>may</td>\n",
              "      <td>198</td>\n",
              "      <td>1</td>\n",
              "      <td>-1</td>\n",
              "      <td>0</td>\n",
              "      <td>unknown</td>\n",
              "      <td>no</td>\n",
              "    </tr>\n",
              "  </tbody>\n",
              "</table>\n",
              "</div>\n",
              "      <button class=\"colab-df-convert\" onclick=\"convertToInteractive('df-98f2be6c-2373-420b-836b-1bd87454d22e')\"\n",
              "              title=\"Convert this dataframe to an interactive table.\"\n",
              "              style=\"display:none;\">\n",
              "        \n",
              "  <svg xmlns=\"http://www.w3.org/2000/svg\" height=\"24px\"viewBox=\"0 0 24 24\"\n",
              "       width=\"24px\">\n",
              "    <path d=\"M0 0h24v24H0V0z\" fill=\"none\"/>\n",
              "    <path d=\"M18.56 5.44l.94 2.06.94-2.06 2.06-.94-2.06-.94-.94-2.06-.94 2.06-2.06.94zm-11 1L8.5 8.5l.94-2.06 2.06-.94-2.06-.94L8.5 2.5l-.94 2.06-2.06.94zm10 10l.94 2.06.94-2.06 2.06-.94-2.06-.94-.94-2.06-.94 2.06-2.06.94z\"/><path d=\"M17.41 7.96l-1.37-1.37c-.4-.4-.92-.59-1.43-.59-.52 0-1.04.2-1.43.59L10.3 9.45l-7.72 7.72c-.78.78-.78 2.05 0 2.83L4 21.41c.39.39.9.59 1.41.59.51 0 1.02-.2 1.41-.59l7.78-7.78 2.81-2.81c.8-.78.8-2.07 0-2.86zM5.41 20L4 18.59l7.72-7.72 1.47 1.35L5.41 20z\"/>\n",
              "  </svg>\n",
              "      </button>\n",
              "      \n",
              "  <style>\n",
              "    .colab-df-container {\n",
              "      display:flex;\n",
              "      flex-wrap:wrap;\n",
              "      gap: 12px;\n",
              "    }\n",
              "\n",
              "    .colab-df-convert {\n",
              "      background-color: #E8F0FE;\n",
              "      border: none;\n",
              "      border-radius: 50%;\n",
              "      cursor: pointer;\n",
              "      display: none;\n",
              "      fill: #1967D2;\n",
              "      height: 32px;\n",
              "      padding: 0 0 0 0;\n",
              "      width: 32px;\n",
              "    }\n",
              "\n",
              "    .colab-df-convert:hover {\n",
              "      background-color: #E2EBFA;\n",
              "      box-shadow: 0px 1px 2px rgba(60, 64, 67, 0.3), 0px 1px 3px 1px rgba(60, 64, 67, 0.15);\n",
              "      fill: #174EA6;\n",
              "    }\n",
              "\n",
              "    [theme=dark] .colab-df-convert {\n",
              "      background-color: #3B4455;\n",
              "      fill: #D2E3FC;\n",
              "    }\n",
              "\n",
              "    [theme=dark] .colab-df-convert:hover {\n",
              "      background-color: #434B5C;\n",
              "      box-shadow: 0px 1px 3px 1px rgba(0, 0, 0, 0.15);\n",
              "      filter: drop-shadow(0px 1px 2px rgba(0, 0, 0, 0.3));\n",
              "      fill: #FFFFFF;\n",
              "    }\n",
              "  </style>\n",
              "\n",
              "      <script>\n",
              "        const buttonEl =\n",
              "          document.querySelector('#df-98f2be6c-2373-420b-836b-1bd87454d22e button.colab-df-convert');\n",
              "        buttonEl.style.display =\n",
              "          google.colab.kernel.accessAllowed ? 'block' : 'none';\n",
              "\n",
              "        async function convertToInteractive(key) {\n",
              "          const element = document.querySelector('#df-98f2be6c-2373-420b-836b-1bd87454d22e');\n",
              "          const dataTable =\n",
              "            await google.colab.kernel.invokeFunction('convertToInteractive',\n",
              "                                                     [key], {});\n",
              "          if (!dataTable) return;\n",
              "\n",
              "          const docLinkHtml = 'Like what you see? Visit the ' +\n",
              "            '<a target=\"_blank\" href=https://colab.research.google.com/notebooks/data_table.ipynb>data table notebook</a>'\n",
              "            + ' to learn more about interactive tables.';\n",
              "          element.innerHTML = '';\n",
              "          dataTable['output_type'] = 'display_data';\n",
              "          await google.colab.output.renderOutput(dataTable, element);\n",
              "          const docLink = document.createElement('div');\n",
              "          docLink.innerHTML = docLinkHtml;\n",
              "          element.appendChild(docLink);\n",
              "        }\n",
              "      </script>\n",
              "    </div>\n",
              "  </div>\n",
              "  "
            ]
          },
          "metadata": {},
          "execution_count": 64
        }
      ]
    },
    {
      "cell_type": "code",
      "source": [
        "df_bank.info()"
      ],
      "metadata": {
        "colab": {
          "base_uri": "https://localhost:8080/"
        },
        "id": "ePNjpQRAHHlj",
        "outputId": "9a905765-bcce-4442-fa0e-1b331da9438c"
      },
      "execution_count": null,
      "outputs": [
        {
          "output_type": "stream",
          "name": "stdout",
          "text": [
            "<class 'pandas.core.frame.DataFrame'>\n",
            "RangeIndex: 45211 entries, 0 to 45210\n",
            "Data columns (total 17 columns):\n",
            " #   Column     Non-Null Count  Dtype \n",
            "---  ------     --------------  ----- \n",
            " 0   age        45211 non-null  int64 \n",
            " 1   job        45211 non-null  object\n",
            " 2   marital    45211 non-null  object\n",
            " 3   education  45211 non-null  object\n",
            " 4   default    45211 non-null  object\n",
            " 5   balance    45211 non-null  int64 \n",
            " 6   housing    45211 non-null  object\n",
            " 7   loan       45211 non-null  object\n",
            " 8   contact    45211 non-null  object\n",
            " 9   day        45211 non-null  int64 \n",
            " 10  month      45211 non-null  object\n",
            " 11  duration   45211 non-null  int64 \n",
            " 12  campaign   45211 non-null  int64 \n",
            " 13  pdays      45211 non-null  int64 \n",
            " 14  previous   45211 non-null  int64 \n",
            " 15  poutcome   45211 non-null  object\n",
            " 16  Target     45211 non-null  object\n",
            "dtypes: int64(7), object(10)\n",
            "memory usage: 5.9+ MB\n"
          ]
        }
      ]
    },
    {
      "cell_type": "markdown",
      "source": [
        "# Feature Selection"
      ],
      "metadata": {
        "id": "qhdTFvZ4HrYq"
      }
    },
    {
      "cell_type": "code",
      "source": [
        "#memilih categorical feature\n",
        "categorical=[]\n",
        "for col, value in df_bank.iteritems():\n",
        "  if value.dtype == 'object':\n",
        "    categorical.append(col)\n",
        "\n",
        "#store the numerical columns in a list\n",
        "df_bank = df_bank[categorical]\n",
        "df_bank.head()"
      ],
      "metadata": {
        "colab": {
          "base_uri": "https://localhost:8080/",
          "height": 206
        },
        "id": "1YPnxN9dHtti",
        "outputId": "a2e58cc7-85f9-49de-cc7a-d097f45563e9"
      },
      "execution_count": null,
      "outputs": [
        {
          "output_type": "execute_result",
          "data": {
            "text/plain": [
              "            job  marital  education default housing loan  contact month  \\\n",
              "0    management  married   tertiary      no     yes   no  unknown   may   \n",
              "1    technician   single  secondary      no     yes   no  unknown   may   \n",
              "2  entrepreneur  married  secondary      no     yes  yes  unknown   may   \n",
              "3   blue-collar  married    unknown      no     yes   no  unknown   may   \n",
              "4       unknown   single    unknown      no      no   no  unknown   may   \n",
              "\n",
              "  poutcome Target  \n",
              "0  unknown     no  \n",
              "1  unknown     no  \n",
              "2  unknown     no  \n",
              "3  unknown     no  \n",
              "4  unknown     no  "
            ],
            "text/html": [
              "\n",
              "  <div id=\"df-c8ab57f1-2a31-427d-9395-92c744572e63\">\n",
              "    <div class=\"colab-df-container\">\n",
              "      <div>\n",
              "<style scoped>\n",
              "    .dataframe tbody tr th:only-of-type {\n",
              "        vertical-align: middle;\n",
              "    }\n",
              "\n",
              "    .dataframe tbody tr th {\n",
              "        vertical-align: top;\n",
              "    }\n",
              "\n",
              "    .dataframe thead th {\n",
              "        text-align: right;\n",
              "    }\n",
              "</style>\n",
              "<table border=\"1\" class=\"dataframe\">\n",
              "  <thead>\n",
              "    <tr style=\"text-align: right;\">\n",
              "      <th></th>\n",
              "      <th>job</th>\n",
              "      <th>marital</th>\n",
              "      <th>education</th>\n",
              "      <th>default</th>\n",
              "      <th>housing</th>\n",
              "      <th>loan</th>\n",
              "      <th>contact</th>\n",
              "      <th>month</th>\n",
              "      <th>poutcome</th>\n",
              "      <th>Target</th>\n",
              "    </tr>\n",
              "  </thead>\n",
              "  <tbody>\n",
              "    <tr>\n",
              "      <th>0</th>\n",
              "      <td>management</td>\n",
              "      <td>married</td>\n",
              "      <td>tertiary</td>\n",
              "      <td>no</td>\n",
              "      <td>yes</td>\n",
              "      <td>no</td>\n",
              "      <td>unknown</td>\n",
              "      <td>may</td>\n",
              "      <td>unknown</td>\n",
              "      <td>no</td>\n",
              "    </tr>\n",
              "    <tr>\n",
              "      <th>1</th>\n",
              "      <td>technician</td>\n",
              "      <td>single</td>\n",
              "      <td>secondary</td>\n",
              "      <td>no</td>\n",
              "      <td>yes</td>\n",
              "      <td>no</td>\n",
              "      <td>unknown</td>\n",
              "      <td>may</td>\n",
              "      <td>unknown</td>\n",
              "      <td>no</td>\n",
              "    </tr>\n",
              "    <tr>\n",
              "      <th>2</th>\n",
              "      <td>entrepreneur</td>\n",
              "      <td>married</td>\n",
              "      <td>secondary</td>\n",
              "      <td>no</td>\n",
              "      <td>yes</td>\n",
              "      <td>yes</td>\n",
              "      <td>unknown</td>\n",
              "      <td>may</td>\n",
              "      <td>unknown</td>\n",
              "      <td>no</td>\n",
              "    </tr>\n",
              "    <tr>\n",
              "      <th>3</th>\n",
              "      <td>blue-collar</td>\n",
              "      <td>married</td>\n",
              "      <td>unknown</td>\n",
              "      <td>no</td>\n",
              "      <td>yes</td>\n",
              "      <td>no</td>\n",
              "      <td>unknown</td>\n",
              "      <td>may</td>\n",
              "      <td>unknown</td>\n",
              "      <td>no</td>\n",
              "    </tr>\n",
              "    <tr>\n",
              "      <th>4</th>\n",
              "      <td>unknown</td>\n",
              "      <td>single</td>\n",
              "      <td>unknown</td>\n",
              "      <td>no</td>\n",
              "      <td>no</td>\n",
              "      <td>no</td>\n",
              "      <td>unknown</td>\n",
              "      <td>may</td>\n",
              "      <td>unknown</td>\n",
              "      <td>no</td>\n",
              "    </tr>\n",
              "  </tbody>\n",
              "</table>\n",
              "</div>\n",
              "      <button class=\"colab-df-convert\" onclick=\"convertToInteractive('df-c8ab57f1-2a31-427d-9395-92c744572e63')\"\n",
              "              title=\"Convert this dataframe to an interactive table.\"\n",
              "              style=\"display:none;\">\n",
              "        \n",
              "  <svg xmlns=\"http://www.w3.org/2000/svg\" height=\"24px\"viewBox=\"0 0 24 24\"\n",
              "       width=\"24px\">\n",
              "    <path d=\"M0 0h24v24H0V0z\" fill=\"none\"/>\n",
              "    <path d=\"M18.56 5.44l.94 2.06.94-2.06 2.06-.94-2.06-.94-.94-2.06-.94 2.06-2.06.94zm-11 1L8.5 8.5l.94-2.06 2.06-.94-2.06-.94L8.5 2.5l-.94 2.06-2.06.94zm10 10l.94 2.06.94-2.06 2.06-.94-2.06-.94-.94-2.06-.94 2.06-2.06.94z\"/><path d=\"M17.41 7.96l-1.37-1.37c-.4-.4-.92-.59-1.43-.59-.52 0-1.04.2-1.43.59L10.3 9.45l-7.72 7.72c-.78.78-.78 2.05 0 2.83L4 21.41c.39.39.9.59 1.41.59.51 0 1.02-.2 1.41-.59l7.78-7.78 2.81-2.81c.8-.78.8-2.07 0-2.86zM5.41 20L4 18.59l7.72-7.72 1.47 1.35L5.41 20z\"/>\n",
              "  </svg>\n",
              "      </button>\n",
              "      \n",
              "  <style>\n",
              "    .colab-df-container {\n",
              "      display:flex;\n",
              "      flex-wrap:wrap;\n",
              "      gap: 12px;\n",
              "    }\n",
              "\n",
              "    .colab-df-convert {\n",
              "      background-color: #E8F0FE;\n",
              "      border: none;\n",
              "      border-radius: 50%;\n",
              "      cursor: pointer;\n",
              "      display: none;\n",
              "      fill: #1967D2;\n",
              "      height: 32px;\n",
              "      padding: 0 0 0 0;\n",
              "      width: 32px;\n",
              "    }\n",
              "\n",
              "    .colab-df-convert:hover {\n",
              "      background-color: #E2EBFA;\n",
              "      box-shadow: 0px 1px 2px rgba(60, 64, 67, 0.3), 0px 1px 3px 1px rgba(60, 64, 67, 0.15);\n",
              "      fill: #174EA6;\n",
              "    }\n",
              "\n",
              "    [theme=dark] .colab-df-convert {\n",
              "      background-color: #3B4455;\n",
              "      fill: #D2E3FC;\n",
              "    }\n",
              "\n",
              "    [theme=dark] .colab-df-convert:hover {\n",
              "      background-color: #434B5C;\n",
              "      box-shadow: 0px 1px 3px 1px rgba(0, 0, 0, 0.15);\n",
              "      filter: drop-shadow(0px 1px 2px rgba(0, 0, 0, 0.3));\n",
              "      fill: #FFFFFF;\n",
              "    }\n",
              "  </style>\n",
              "\n",
              "      <script>\n",
              "        const buttonEl =\n",
              "          document.querySelector('#df-c8ab57f1-2a31-427d-9395-92c744572e63 button.colab-df-convert');\n",
              "        buttonEl.style.display =\n",
              "          google.colab.kernel.accessAllowed ? 'block' : 'none';\n",
              "\n",
              "        async function convertToInteractive(key) {\n",
              "          const element = document.querySelector('#df-c8ab57f1-2a31-427d-9395-92c744572e63');\n",
              "          const dataTable =\n",
              "            await google.colab.kernel.invokeFunction('convertToInteractive',\n",
              "                                                     [key], {});\n",
              "          if (!dataTable) return;\n",
              "\n",
              "          const docLinkHtml = 'Like what you see? Visit the ' +\n",
              "            '<a target=\"_blank\" href=https://colab.research.google.com/notebooks/data_table.ipynb>data table notebook</a>'\n",
              "            + ' to learn more about interactive tables.';\n",
              "          element.innerHTML = '';\n",
              "          dataTable['output_type'] = 'display_data';\n",
              "          await google.colab.output.renderOutput(dataTable, element);\n",
              "          const docLink = document.createElement('div');\n",
              "          docLink.innerHTML = docLinkHtml;\n",
              "          element.appendChild(docLink);\n",
              "        }\n",
              "      </script>\n",
              "    </div>\n",
              "  </div>\n",
              "  "
            ]
          },
          "metadata": {},
          "execution_count": 66
        }
      ]
    },
    {
      "cell_type": "code",
      "source": [
        "#convert to numeric\n",
        "from sklearn import preprocessing\n",
        "le = preprocessing.LabelEncoder()\n",
        "\n",
        "df_feature_select = df_bank.copy()\n",
        "\n",
        "for columName in df_feature_select:\n",
        "  df_feature_select[columName] = le.fit_transform(df_feature_select[columName])\n",
        "\n",
        "df_feature_select.head()"
      ],
      "metadata": {
        "colab": {
          "base_uri": "https://localhost:8080/",
          "height": 206
        },
        "id": "LH7d-SbaI6wk",
        "outputId": "dd677ab3-7103-4c13-bea3-b3c4c8de83cb"
      },
      "execution_count": null,
      "outputs": [
        {
          "output_type": "execute_result",
          "data": {
            "text/plain": [
              "   job  marital  education  default  housing  loan  contact  month  poutcome  \\\n",
              "0    4        1          2        0        1     0        2      8         3   \n",
              "1    9        2          1        0        1     0        2      8         3   \n",
              "2    2        1          1        0        1     1        2      8         3   \n",
              "3    1        1          3        0        1     0        2      8         3   \n",
              "4   11        2          3        0        0     0        2      8         3   \n",
              "\n",
              "   Target  \n",
              "0       0  \n",
              "1       0  \n",
              "2       0  \n",
              "3       0  \n",
              "4       0  "
            ],
            "text/html": [
              "\n",
              "  <div id=\"df-4f51fdf8-abf7-4967-a0ea-5b4b2a9f7622\">\n",
              "    <div class=\"colab-df-container\">\n",
              "      <div>\n",
              "<style scoped>\n",
              "    .dataframe tbody tr th:only-of-type {\n",
              "        vertical-align: middle;\n",
              "    }\n",
              "\n",
              "    .dataframe tbody tr th {\n",
              "        vertical-align: top;\n",
              "    }\n",
              "\n",
              "    .dataframe thead th {\n",
              "        text-align: right;\n",
              "    }\n",
              "</style>\n",
              "<table border=\"1\" class=\"dataframe\">\n",
              "  <thead>\n",
              "    <tr style=\"text-align: right;\">\n",
              "      <th></th>\n",
              "      <th>job</th>\n",
              "      <th>marital</th>\n",
              "      <th>education</th>\n",
              "      <th>default</th>\n",
              "      <th>housing</th>\n",
              "      <th>loan</th>\n",
              "      <th>contact</th>\n",
              "      <th>month</th>\n",
              "      <th>poutcome</th>\n",
              "      <th>Target</th>\n",
              "    </tr>\n",
              "  </thead>\n",
              "  <tbody>\n",
              "    <tr>\n",
              "      <th>0</th>\n",
              "      <td>4</td>\n",
              "      <td>1</td>\n",
              "      <td>2</td>\n",
              "      <td>0</td>\n",
              "      <td>1</td>\n",
              "      <td>0</td>\n",
              "      <td>2</td>\n",
              "      <td>8</td>\n",
              "      <td>3</td>\n",
              "      <td>0</td>\n",
              "    </tr>\n",
              "    <tr>\n",
              "      <th>1</th>\n",
              "      <td>9</td>\n",
              "      <td>2</td>\n",
              "      <td>1</td>\n",
              "      <td>0</td>\n",
              "      <td>1</td>\n",
              "      <td>0</td>\n",
              "      <td>2</td>\n",
              "      <td>8</td>\n",
              "      <td>3</td>\n",
              "      <td>0</td>\n",
              "    </tr>\n",
              "    <tr>\n",
              "      <th>2</th>\n",
              "      <td>2</td>\n",
              "      <td>1</td>\n",
              "      <td>1</td>\n",
              "      <td>0</td>\n",
              "      <td>1</td>\n",
              "      <td>1</td>\n",
              "      <td>2</td>\n",
              "      <td>8</td>\n",
              "      <td>3</td>\n",
              "      <td>0</td>\n",
              "    </tr>\n",
              "    <tr>\n",
              "      <th>3</th>\n",
              "      <td>1</td>\n",
              "      <td>1</td>\n",
              "      <td>3</td>\n",
              "      <td>0</td>\n",
              "      <td>1</td>\n",
              "      <td>0</td>\n",
              "      <td>2</td>\n",
              "      <td>8</td>\n",
              "      <td>3</td>\n",
              "      <td>0</td>\n",
              "    </tr>\n",
              "    <tr>\n",
              "      <th>4</th>\n",
              "      <td>11</td>\n",
              "      <td>2</td>\n",
              "      <td>3</td>\n",
              "      <td>0</td>\n",
              "      <td>0</td>\n",
              "      <td>0</td>\n",
              "      <td>2</td>\n",
              "      <td>8</td>\n",
              "      <td>3</td>\n",
              "      <td>0</td>\n",
              "    </tr>\n",
              "  </tbody>\n",
              "</table>\n",
              "</div>\n",
              "      <button class=\"colab-df-convert\" onclick=\"convertToInteractive('df-4f51fdf8-abf7-4967-a0ea-5b4b2a9f7622')\"\n",
              "              title=\"Convert this dataframe to an interactive table.\"\n",
              "              style=\"display:none;\">\n",
              "        \n",
              "  <svg xmlns=\"http://www.w3.org/2000/svg\" height=\"24px\"viewBox=\"0 0 24 24\"\n",
              "       width=\"24px\">\n",
              "    <path d=\"M0 0h24v24H0V0z\" fill=\"none\"/>\n",
              "    <path d=\"M18.56 5.44l.94 2.06.94-2.06 2.06-.94-2.06-.94-.94-2.06-.94 2.06-2.06.94zm-11 1L8.5 8.5l.94-2.06 2.06-.94-2.06-.94L8.5 2.5l-.94 2.06-2.06.94zm10 10l.94 2.06.94-2.06 2.06-.94-2.06-.94-.94-2.06-.94 2.06-2.06.94z\"/><path d=\"M17.41 7.96l-1.37-1.37c-.4-.4-.92-.59-1.43-.59-.52 0-1.04.2-1.43.59L10.3 9.45l-7.72 7.72c-.78.78-.78 2.05 0 2.83L4 21.41c.39.39.9.59 1.41.59.51 0 1.02-.2 1.41-.59l7.78-7.78 2.81-2.81c.8-.78.8-2.07 0-2.86zM5.41 20L4 18.59l7.72-7.72 1.47 1.35L5.41 20z\"/>\n",
              "  </svg>\n",
              "      </button>\n",
              "      \n",
              "  <style>\n",
              "    .colab-df-container {\n",
              "      display:flex;\n",
              "      flex-wrap:wrap;\n",
              "      gap: 12px;\n",
              "    }\n",
              "\n",
              "    .colab-df-convert {\n",
              "      background-color: #E8F0FE;\n",
              "      border: none;\n",
              "      border-radius: 50%;\n",
              "      cursor: pointer;\n",
              "      display: none;\n",
              "      fill: #1967D2;\n",
              "      height: 32px;\n",
              "      padding: 0 0 0 0;\n",
              "      width: 32px;\n",
              "    }\n",
              "\n",
              "    .colab-df-convert:hover {\n",
              "      background-color: #E2EBFA;\n",
              "      box-shadow: 0px 1px 2px rgba(60, 64, 67, 0.3), 0px 1px 3px 1px rgba(60, 64, 67, 0.15);\n",
              "      fill: #174EA6;\n",
              "    }\n",
              "\n",
              "    [theme=dark] .colab-df-convert {\n",
              "      background-color: #3B4455;\n",
              "      fill: #D2E3FC;\n",
              "    }\n",
              "\n",
              "    [theme=dark] .colab-df-convert:hover {\n",
              "      background-color: #434B5C;\n",
              "      box-shadow: 0px 1px 3px 1px rgba(0, 0, 0, 0.15);\n",
              "      filter: drop-shadow(0px 1px 2px rgba(0, 0, 0, 0.3));\n",
              "      fill: #FFFFFF;\n",
              "    }\n",
              "  </style>\n",
              "\n",
              "      <script>\n",
              "        const buttonEl =\n",
              "          document.querySelector('#df-4f51fdf8-abf7-4967-a0ea-5b4b2a9f7622 button.colab-df-convert');\n",
              "        buttonEl.style.display =\n",
              "          google.colab.kernel.accessAllowed ? 'block' : 'none';\n",
              "\n",
              "        async function convertToInteractive(key) {\n",
              "          const element = document.querySelector('#df-4f51fdf8-abf7-4967-a0ea-5b4b2a9f7622');\n",
              "          const dataTable =\n",
              "            await google.colab.kernel.invokeFunction('convertToInteractive',\n",
              "                                                     [key], {});\n",
              "          if (!dataTable) return;\n",
              "\n",
              "          const docLinkHtml = 'Like what you see? Visit the ' +\n",
              "            '<a target=\"_blank\" href=https://colab.research.google.com/notebooks/data_table.ipynb>data table notebook</a>'\n",
              "            + ' to learn more about interactive tables.';\n",
              "          element.innerHTML = '';\n",
              "          dataTable['output_type'] = 'display_data';\n",
              "          await google.colab.output.renderOutput(dataTable, element);\n",
              "          const docLink = document.createElement('div');\n",
              "          docLink.innerHTML = docLinkHtml;\n",
              "          element.appendChild(docLink);\n",
              "        }\n",
              "      </script>\n",
              "    </div>\n",
              "  </div>\n",
              "  "
            ]
          },
          "metadata": {},
          "execution_count": 67
        }
      ]
    },
    {
      "cell_type": "code",
      "source": [
        "cor = df_feature_select.corr()\n",
        "\n",
        "#Correlation with output variable\n",
        "cor_target = abs(cor['housing'])\n",
        "\n",
        "#selecting highly correlated features\n",
        "relevant_features = cor_target[cor_target>0.1]\n",
        "relevant_features"
      ],
      "metadata": {
        "colab": {
          "base_uri": "https://localhost:8080/"
        },
        "id": "OhtOqk7kJ9e6",
        "outputId": "19d82801-7e01-4dd4-d063-c158268b1f8b"
      },
      "execution_count": null,
      "outputs": [
        {
          "output_type": "execute_result",
          "data": {
            "text/plain": [
              "job        0.125363\n",
              "housing    1.000000\n",
              "contact    0.188123\n",
              "month      0.271481\n",
              "Target     0.139173\n",
              "Name: housing, dtype: float64"
            ]
          },
          "metadata": {},
          "execution_count": 68
        }
      ]
    },
    {
      "cell_type": "code",
      "source": [
        "relevant_features_col = ['job', 'contact', 'month', 'Target', 'housing']"
      ],
      "metadata": {
        "id": "QeNrTzi8Kc8K"
      },
      "execution_count": null,
      "outputs": []
    },
    {
      "cell_type": "code",
      "source": [
        "selected_df = df_bank[relevant_features_col]"
      ],
      "metadata": {
        "id": "4I9ijjl3K6Bx"
      },
      "execution_count": null,
      "outputs": []
    },
    {
      "cell_type": "markdown",
      "source": [
        "# Split Data"
      ],
      "metadata": {
        "id": "QSdIg1WDLNxJ"
      }
    },
    {
      "cell_type": "code",
      "source": [
        "df_train = selected_df.loc[selected_df['housing'] == 'yes'].head(200)\n",
        "df_train_no = selected_df.loc[selected_df['housing'] == 'no'].head(200)\n",
        "df_train = df_train.append(df_train_no).reset_index().drop('index', 1)"
      ],
      "metadata": {
        "colab": {
          "base_uri": "https://localhost:8080/"
        },
        "id": "6JSfaDmkLU-4",
        "outputId": "d679c389-38fb-44bf-9436-88ff81fda4b8"
      },
      "execution_count": null,
      "outputs": [
        {
          "output_type": "stream",
          "name": "stderr",
          "text": [
            "<ipython-input-71-49465634f760>:3: FutureWarning: In a future version of pandas all arguments of DataFrame.drop except for the argument 'labels' will be keyword-only\n",
            "  df_train = df_train.append(df_train_no).reset_index().drop('index', 1)\n"
          ]
        }
      ]
    },
    {
      "cell_type": "code",
      "source": [
        "df_test = selected_df.loc[selected_df['housing'] == 'yes'].tail(40)\n",
        "df_test_no = selected_df.loc[selected_df['housing'] == 'no'].tail(40)\n",
        "df_test = df_test.append(df_test_no).reset_index().drop('index', 1)"
      ],
      "metadata": {
        "colab": {
          "base_uri": "https://localhost:8080/"
        },
        "id": "wWLMNnMoMCUC",
        "outputId": "89a1f042-340a-4fa5-8555-b1ee9a698641"
      },
      "execution_count": null,
      "outputs": [
        {
          "output_type": "stream",
          "name": "stderr",
          "text": [
            "<ipython-input-72-f065f107fb59>:3: FutureWarning: In a future version of pandas all arguments of DataFrame.drop except for the argument 'labels' will be keyword-only\n",
            "  df_test = df_test.append(df_test_no).reset_index().drop('index', 1)\n"
          ]
        }
      ]
    },
    {
      "cell_type": "markdown",
      "source": [
        "# Train Model"
      ],
      "metadata": {
        "id": "upblZvV2MYPw"
      }
    },
    {
      "cell_type": "code",
      "source": [
        "#tentukan config c4.5\n",
        "config = {'algorithm':'C4.5'}\n",
        "\n",
        "#training the C4.5 model on the Training set\n",
        "c45_model2 = chef.fit(df_train, config, target_label = 'housing') #datanya dijadikan satu"
      ],
      "metadata": {
        "colab": {
          "base_uri": "https://localhost:8080/"
        },
        "id": "ejf9QoSzMXja",
        "outputId": "d9bd0eaf-b14c-4089-8fbf-6563ecea0dea"
      },
      "execution_count": null,
      "outputs": [
        {
          "output_type": "stream",
          "name": "stdout",
          "text": [
            "[INFO]:  1 CPU cores will be allocated in parallel running\n",
            "C4.5  tree is going to be built...\n",
            "-------------------------\n",
            "finished in  6.004819393157959  seconds\n",
            "-------------------------\n",
            "Evaluate  train set\n",
            "-------------------------\n",
            "Accuracy:  54.0 % on  400  instances\n",
            "Labels:  ['yes' 'no']\n",
            "Confusion matrix:  [[160, 144], [40, 56]]\n",
            "Precision:  52.6316 %, Recall:  80.0 %, F1:  63.4921 %\n"
          ]
        }
      ]
    },
    {
      "cell_type": "code",
      "source": [
        "with open('/content/outputs/rules/rules.py', encoding='utf8') as f:\n",
        "  for line in f:\n",
        "    print(line.strip())"
      ],
      "metadata": {
        "colab": {
          "base_uri": "https://localhost:8080/"
        },
        "id": "a9wiBpDlNp4x",
        "outputId": "c9829147-76b3-48f6-e16a-0c5b07c5c13d"
      },
      "execution_count": null,
      "outputs": [
        {
          "output_type": "stream",
          "name": "stdout",
          "text": [
            "def findDecision(obj): #obj[0]: job, obj[1]: contact, obj[2]: month, obj[3]: Target\n",
            "# {\"feature\": \"job\", \"instances\": 400, \"metric_value\": 1.0, \"depth\": 1}\n",
            "if obj[0] == 'blue-collar':\n",
            "# {\"feature\": \"Target\", \"instances\": 94, \"metric_value\": 0.9987, \"depth\": 2}\n",
            "if obj[3] == 'no':\n",
            "# {\"feature\": \"contact\", \"instances\": 93, \"metric_value\": 0.9979, \"depth\": 3}\n",
            "if obj[1] == 'unknown':\n",
            "# {\"feature\": \"month\", \"instances\": 93, \"metric_value\": 0.9979, \"depth\": 4}\n",
            "if obj[2] == 'may':\n",
            "return 'yes'\n",
            "else: return 'yes'\n",
            "else: return 'yes'\n",
            "elif obj[3] == 'yes':\n",
            "return 'no'\n",
            "else: return 'no'\n",
            "elif obj[0] == 'management':\n",
            "# {\"feature\": \"contact\", \"instances\": 66, \"metric_value\": 0.9993, \"depth\": 2}\n",
            "if obj[1] == 'unknown':\n",
            "# {\"feature\": \"month\", \"instances\": 66, \"metric_value\": 0.9993, \"depth\": 3}\n",
            "if obj[2] == 'may':\n",
            "# {\"feature\": \"Target\", \"instances\": 66, \"metric_value\": 0.9993, \"depth\": 4}\n",
            "if obj[3] == 'no':\n",
            "return 'yes'\n",
            "else: return 'yes'\n",
            "else: return 'yes'\n",
            "else: return 'yes'\n",
            "elif obj[0] == 'technician':\n",
            "# {\"feature\": \"Target\", \"instances\": 63, \"metric_value\": 0.9984, \"depth\": 2}\n",
            "if obj[3] == 'no':\n",
            "# {\"feature\": \"contact\", \"instances\": 62, \"metric_value\": 0.997, \"depth\": 3}\n",
            "if obj[1] == 'unknown':\n",
            "# {\"feature\": \"month\", \"instances\": 62, \"metric_value\": 0.997, \"depth\": 4}\n",
            "if obj[2] == 'may':\n",
            "return 'no'\n",
            "else: return 'no'\n",
            "else: return 'no'\n",
            "elif obj[3] == 'yes':\n",
            "return 'yes'\n",
            "else: return 'yes'\n",
            "elif obj[0] == 'services':\n",
            "# {\"feature\": \"Target\", \"instances\": 53, \"metric_value\": 0.9874, \"depth\": 2}\n",
            "if obj[3] == 'no':\n",
            "# {\"feature\": \"contact\", \"instances\": 52, \"metric_value\": 0.9904, \"depth\": 3}\n",
            "if obj[1] == 'unknown':\n",
            "# {\"feature\": \"month\", \"instances\": 52, \"metric_value\": 0.9904, \"depth\": 4}\n",
            "if obj[2] == 'may':\n",
            "return 'yes'\n",
            "else: return 'yes'\n",
            "else: return 'yes'\n",
            "elif obj[3] == 'yes':\n",
            "return 'yes'\n",
            "else: return 'yes'\n",
            "elif obj[0] == 'admin.':\n",
            "# {\"feature\": \"Target\", \"instances\": 50, \"metric_value\": 0.9988, \"depth\": 2}\n",
            "if obj[3] == 'no':\n",
            "# {\"feature\": \"contact\", \"instances\": 46, \"metric_value\": 1.0, \"depth\": 3}\n",
            "if obj[1] == 'unknown':\n",
            "# {\"feature\": \"month\", \"instances\": 46, \"metric_value\": 1.0, \"depth\": 4}\n",
            "if obj[2] == 'may':\n",
            "return 'yes'\n",
            "else: return 'yes'\n",
            "else: return 'yes'\n",
            "elif obj[3] == 'yes':\n",
            "# {\"feature\": \"contact\", \"instances\": 4, \"metric_value\": 0.8113, \"depth\": 3}\n",
            "if obj[1] == 'unknown':\n",
            "# {\"feature\": \"month\", \"instances\": 4, \"metric_value\": 0.8113, \"depth\": 4}\n",
            "if obj[2] == 'may':\n",
            "return 'no'\n",
            "else: return 'no'\n",
            "else: return 'no'\n",
            "else: return 'no'\n",
            "elif obj[0] == 'retired':\n",
            "# {\"feature\": \"contact\", \"instances\": 29, \"metric_value\": 0.9991, \"depth\": 2}\n",
            "if obj[1] == 'unknown':\n",
            "# {\"feature\": \"month\", \"instances\": 29, \"metric_value\": 0.9991, \"depth\": 3}\n",
            "if obj[2] == 'may':\n",
            "# {\"feature\": \"Target\", \"instances\": 29, \"metric_value\": 0.9991, \"depth\": 4}\n",
            "if obj[3] == 'no':\n",
            "return 'yes'\n",
            "else: return 'yes'\n",
            "else: return 'yes'\n",
            "else: return 'yes'\n",
            "elif obj[0] == 'entrepreneur':\n",
            "# {\"feature\": \"contact\", \"instances\": 12, \"metric_value\": 1.0, \"depth\": 2}\n",
            "if obj[1] == 'unknown':\n",
            "# {\"feature\": \"month\", \"instances\": 12, \"metric_value\": 1.0, \"depth\": 3}\n",
            "if obj[2] == 'may':\n",
            "# {\"feature\": \"Target\", \"instances\": 12, \"metric_value\": 1.0, \"depth\": 4}\n",
            "if obj[3] == 'no':\n",
            "return 'yes'\n",
            "else: return 'yes'\n",
            "else: return 'yes'\n",
            "else: return 'yes'\n",
            "elif obj[0] == 'self-employed':\n",
            "# {\"feature\": \"contact\", \"instances\": 11, \"metric_value\": 0.994, \"depth\": 2}\n",
            "if obj[1] == 'unknown':\n",
            "# {\"feature\": \"month\", \"instances\": 11, \"metric_value\": 0.994, \"depth\": 3}\n",
            "if obj[2] == 'may':\n",
            "# {\"feature\": \"Target\", \"instances\": 11, \"metric_value\": 0.994, \"depth\": 4}\n",
            "if obj[3] == 'no':\n",
            "return 'no'\n",
            "else: return 'no'\n",
            "else: return 'no'\n",
            "else: return 'no'\n",
            "elif obj[0] == 'unemployed':\n",
            "# {\"feature\": \"contact\", \"instances\": 11, \"metric_value\": 0.9457, \"depth\": 2}\n",
            "if obj[1] == 'unknown':\n",
            "# {\"feature\": \"month\", \"instances\": 11, \"metric_value\": 0.9457, \"depth\": 3}\n",
            "if obj[2] == 'may':\n",
            "# {\"feature\": \"Target\", \"instances\": 11, \"metric_value\": 0.9457, \"depth\": 4}\n",
            "if obj[3] == 'no':\n",
            "return 'no'\n",
            "else: return 'no'\n",
            "else: return 'no'\n",
            "else: return 'no'\n",
            "elif obj[0] == 'housemaid':\n",
            "# {\"feature\": \"contact\", \"instances\": 4, \"metric_value\": 0.8113, \"depth\": 2}\n",
            "if obj[1] == 'unknown':\n",
            "# {\"feature\": \"month\", \"instances\": 4, \"metric_value\": 0.8113, \"depth\": 3}\n",
            "if obj[2] == 'may':\n",
            "# {\"feature\": \"Target\", \"instances\": 4, \"metric_value\": 0.8113, \"depth\": 4}\n",
            "if obj[3] == 'no':\n",
            "return 'no'\n",
            "else: return 'no'\n",
            "else: return 'no'\n",
            "else: return 'no'\n",
            "elif obj[0] == 'student':\n",
            "# {\"feature\": \"contact\", \"instances\": 4, \"metric_value\": 1.0, \"depth\": 2}\n",
            "if obj[1] == 'unknown':\n",
            "# {\"feature\": \"month\", \"instances\": 4, \"metric_value\": 1.0, \"depth\": 3}\n",
            "if obj[2] == 'may':\n",
            "# {\"feature\": \"Target\", \"instances\": 4, \"metric_value\": 1.0, \"depth\": 4}\n",
            "if obj[3] == 'no':\n",
            "return 'yes'\n",
            "else: return 'yes'\n",
            "else: return 'yes'\n",
            "else: return 'yes'\n",
            "elif obj[0] == 'unknown':\n",
            "return 'no'\n",
            "else: return 'no'\n"
          ]
        }
      ]
    },
    {
      "cell_type": "markdown",
      "source": [
        "# Prediksi"
      ],
      "metadata": {
        "id": "J7bN28H1OkBW"
      }
    },
    {
      "cell_type": "code",
      "source": [
        "#Prediksi berdasarkan row\n",
        "print('Row : ', selected_df.loc[0])\n",
        "print('\\nActual', selected_df['housing'].loc[0])\n",
        "print('Prediction : ', chef.predict(c45_model2, selected_df.loc[0]))"
      ],
      "metadata": {
        "colab": {
          "base_uri": "https://localhost:8080/"
        },
        "id": "_csX6pRKOL5w",
        "outputId": "7107ba42-f894-486a-9e8e-788bd100482e"
      },
      "execution_count": null,
      "outputs": [
        {
          "output_type": "stream",
          "name": "stdout",
          "text": [
            "Row :  job        management\n",
            "contact       unknown\n",
            "month             may\n",
            "Target             no\n",
            "housing           yes\n",
            "Name: 0, dtype: object\n",
            "\n",
            "Actual yes\n",
            "Prediction :  yes\n"
          ]
        }
      ]
    },
    {
      "cell_type": "code",
      "source": [
        "#predict dengan inputan, masukkan secara berurutan value untuk fitur job contact\n",
        "#pastikan inputan yang dimasukkan sesuai dengan salah satu unique value pada masing-masing fitur"
      ],
      "metadata": {
        "id": "XEmc2BbEPVS5"
      },
      "execution_count": null,
      "outputs": []
    },
    {
      "cell_type": "code",
      "source": [
        "chef.predict(c45_model, param = ['unknown', 'cellular', 'nov', 'no'])"
      ],
      "metadata": {
        "colab": {
          "base_uri": "https://localhost:8080/",
          "height": 36
        },
        "id": "Xq28fgfaPlYp",
        "outputId": "1c9f2fbd-21c4-4d41-f04c-85c9d59ff2ca"
      },
      "execution_count": null,
      "outputs": [
        {
          "output_type": "execute_result",
          "data": {
            "text/plain": [
              "'no'"
            ],
            "application/vnd.google.colaboratory.intrinsic+json": {
              "type": "string"
            }
          },
          "metadata": {},
          "execution_count": 77
        }
      ]
    },
    {
      "cell_type": "code",
      "source": [
        "#predict all data in df_test\n",
        "predicted = []\n",
        "for row in df_test.index:\n",
        "  predicted.append(chef.predict(c45_model, df_test.loc[row]))"
      ],
      "metadata": {
        "id": "KGuGDhSEQMZR"
      },
      "execution_count": null,
      "outputs": []
    },
    {
      "cell_type": "markdown",
      "source": [
        "# Evaluate"
      ],
      "metadata": {
        "id": "_gm4AifzQePv"
      }
    },
    {
      "cell_type": "code",
      "source": [
        "from sklearn.metrics import *\n",
        "print(classification_report(df_test['housing'].values,predicted,zero_division=0))"
      ],
      "metadata": {
        "colab": {
          "base_uri": "https://localhost:8080/"
        },
        "id": "QWKfIsxaQfvf",
        "outputId": "0b67d6ac-cd00-41f1-9533-e1b4bad7b6cc"
      },
      "execution_count": null,
      "outputs": [
        {
          "output_type": "stream",
          "name": "stdout",
          "text": [
            "              precision    recall  f1-score   support\n",
            "\n",
            "          no       0.41      0.23      0.29        40\n",
            "         yes       0.47      0.68      0.55        40\n",
            "\n",
            "    accuracy                           0.45        80\n",
            "   macro avg       0.44      0.45      0.42        80\n",
            "weighted avg       0.44      0.45      0.42        80\n",
            "\n"
          ]
        }
      ]
    }
  ]
}